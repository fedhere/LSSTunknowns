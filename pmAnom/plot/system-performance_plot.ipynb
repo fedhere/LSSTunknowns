{
 "cells": [
  {
   "cell_type": "code",
   "execution_count": 1,
   "metadata": {},
   "outputs": [
    {
     "name": "stdout",
     "output_type": "stream",
     "text": [
      "\u001b[33mDEPRECATION: Configuring installation scheme with distutils config files is deprecated and will no longer work in the near future. If you are using a Homebrew or Linuxbrew Python, please see discussion at https://github.com/Homebrew/homebrew-core/issues/76621\u001b[0m\u001b[33m\n",
      "\u001b[0mRequirement already satisfied: statsmodels in /usr/local/lib/python3.9/site-packages (0.13.2)\n",
      "Requirement already satisfied: scipy>=1.3 in /usr/local/lib/python3.9/site-packages (from statsmodels) (1.8.0)\n",
      "Requirement already satisfied: patsy>=0.5.2 in /usr/local/lib/python3.9/site-packages (from statsmodels) (0.5.2)\n",
      "Requirement already satisfied: pandas>=0.25 in /usr/local/lib/python3.9/site-packages (from statsmodels) (1.4.2)\n",
      "Requirement already satisfied: packaging>=21.3 in /usr/local/lib/python3.9/site-packages (from statsmodels) (21.3)\n",
      "Requirement already satisfied: numpy>=1.17 in /usr/local/lib/python3.9/site-packages (from statsmodels) (1.22.4)\n",
      "Requirement already satisfied: pyparsing!=3.0.5,>=2.0.2 in /usr/local/lib/python3.9/site-packages (from packaging>=21.3->statsmodels) (3.0.8)\n",
      "Requirement already satisfied: pytz>=2020.1 in /usr/local/lib/python3.9/site-packages (from pandas>=0.25->statsmodels) (2022.1)\n",
      "Requirement already satisfied: python-dateutil>=2.8.1 in /usr/local/lib/python3.9/site-packages (from pandas>=0.25->statsmodels) (2.8.2)\n",
      "Requirement already satisfied: six in /usr/local/lib/python3.9/site-packages (from patsy>=0.5.2->statsmodels) (1.16.0)\n",
      "\u001b[33mDEPRECATION: Configuring installation scheme with distutils config files is deprecated and will no longer work in the near future. If you are using a Homebrew or Linuxbrew Python, please see discussion at https://github.com/Homebrew/homebrew-core/issues/76621\u001b[0m\u001b[33m\n",
      "\u001b[0m\u001b[33mWARNING: There was an error checking the latest version of pip.\u001b[0m\u001b[33m\n",
      "\u001b[0m"
     ]
    }
   ],
   "source": [
    "!pip install statsmodels\n"
   ]
  },
  {
   "cell_type": "code",
   "execution_count": 29,
   "metadata": {},
   "outputs": [
    {
     "name": "stdout",
     "output_type": "stream",
     "text": [
      "%pylab is deprecated, use %matplotlib inline and import the required libraries.\n",
      "Populating the interactive namespace from numpy and matplotlib\n"
     ]
    },
    {
     "name": "stderr",
     "output_type": "stream",
     "text": [
      "/usr/local/lib/python3.9/site-packages/IPython/core/magics/pylab.py:162: UserWarning: pylab import has clobbered these variables: ['cm']\n",
      "`%matplotlib` prevents importing * from pylab and numpy\n",
      "  warn(\"pylab import has clobbered these variables: %s\"  % clobbered +\n"
     ]
    }
   ],
   "source": [
    "import numpy as np\n",
    "import pandas as pd\n",
    "import matplotlib.pyplot as plt\n",
    "import seaborn as sns\n",
    "import statsmodels.api as sm\n",
    "import scipy\n",
    "from scipy import stats\n",
    "\n",
    "%pylab inline"
   ]
  },
  {
   "cell_type": "code",
   "execution_count": 30,
   "metadata": {},
   "outputs": [],
   "source": [
    "data_plot = pd.read_csv('./TN-regplot_fit_data.csv')\n",
    "data_exog = sm.add_constant(data_plot['LS']) #this is the x axis"
   ]
  },
  {
   "cell_type": "code",
   "execution_count": 31,
   "metadata": {},
   "outputs": [
    {
     "data": {
      "text/html": [
       "<div>\n",
       "<style scoped>\n",
       "    .dataframe tbody tr th:only-of-type {\n",
       "        vertical-align: middle;\n",
       "    }\n",
       "\n",
       "    .dataframe tbody tr th {\n",
       "        vertical-align: top;\n",
       "    }\n",
       "\n",
       "    .dataframe thead th {\n",
       "        text-align: right;\n",
       "    }\n",
       "</style>\n",
       "<table border=\"1\" class=\"dataframe\">\n",
       "  <thead>\n",
       "    <tr style=\"text-align: right;\">\n",
       "      <th></th>\n",
       "      <th>const</th>\n",
       "      <th>LS</th>\n",
       "    </tr>\n",
       "  </thead>\n",
       "  <tbody>\n",
       "    <tr>\n",
       "      <th>0</th>\n",
       "      <td>1.0</td>\n",
       "      <td>0.439128</td>\n",
       "    </tr>\n",
       "    <tr>\n",
       "      <th>1</th>\n",
       "      <td>1.0</td>\n",
       "      <td>0.437545</td>\n",
       "    </tr>\n",
       "    <tr>\n",
       "      <th>2</th>\n",
       "      <td>1.0</td>\n",
       "      <td>0.378273</td>\n",
       "    </tr>\n",
       "    <tr>\n",
       "      <th>3</th>\n",
       "      <td>1.0</td>\n",
       "      <td>0.437020</td>\n",
       "    </tr>\n",
       "    <tr>\n",
       "      <th>4</th>\n",
       "      <td>1.0</td>\n",
       "      <td>0.438599</td>\n",
       "    </tr>\n",
       "    <tr>\n",
       "      <th>...</th>\n",
       "      <td>...</td>\n",
       "      <td>...</td>\n",
       "    </tr>\n",
       "    <tr>\n",
       "      <th>102</th>\n",
       "      <td>1.0</td>\n",
       "      <td>0.437283</td>\n",
       "    </tr>\n",
       "    <tr>\n",
       "      <th>103</th>\n",
       "      <td>1.0</td>\n",
       "      <td>0.438599</td>\n",
       "    </tr>\n",
       "    <tr>\n",
       "      <th>104</th>\n",
       "      <td>1.0</td>\n",
       "      <td>0.306307</td>\n",
       "    </tr>\n",
       "    <tr>\n",
       "      <th>105</th>\n",
       "      <td>1.0</td>\n",
       "      <td>0.335388</td>\n",
       "    </tr>\n",
       "    <tr>\n",
       "      <th>106</th>\n",
       "      <td>1.0</td>\n",
       "      <td>0.335388</td>\n",
       "    </tr>\n",
       "  </tbody>\n",
       "</table>\n",
       "<p>107 rows × 2 columns</p>\n",
       "</div>"
      ],
      "text/plain": [
       "     const        LS\n",
       "0      1.0  0.439128\n",
       "1      1.0  0.437545\n",
       "2      1.0  0.378273\n",
       "3      1.0  0.437020\n",
       "4      1.0  0.438599\n",
       "..     ...       ...\n",
       "102    1.0  0.437283\n",
       "103    1.0  0.438599\n",
       "104    1.0  0.306307\n",
       "105    1.0  0.335388\n",
       "106    1.0  0.335388\n",
       "\n",
       "[107 rows x 2 columns]"
      ]
     },
     "execution_count": 31,
     "metadata": {},
     "output_type": "execute_result"
    }
   ],
   "source": [
    "data_exog"
   ]
  },
  {
   "cell_type": "code",
   "execution_count": 32,
   "metadata": {},
   "outputs": [],
   "source": [
    "rlm_model = sm.RLM(data_plot['pm_unc'], data_exog, \n",
    "                   M=sm.robust.norms.HuberT())"
   ]
  },
  {
   "cell_type": "code",
   "execution_count": 33,
   "metadata": {},
   "outputs": [],
   "source": [
    "res= rlm_model.fit()"
   ]
  },
  {
   "cell_type": "code",
   "execution_count": 34,
   "metadata": {},
   "outputs": [
    {
     "data": {
      "text/plain": [
       "const    0.192134\n",
       "LS      -0.065530\n",
       "dtype: float64"
      ]
     },
     "execution_count": 34,
     "metadata": {},
     "output_type": "execute_result"
    }
   ],
   "source": [
    "res.params"
   ]
  },
  {
   "cell_type": "code",
   "execution_count": 35,
   "metadata": {},
   "outputs": [
    {
     "data": {
      "text/plain": [
       "array([1.        , 1.        , 1.        , 1.        , 0.81072506,\n",
       "       1.        , 1.        , 1.        , 1.        , 1.        ,\n",
       "       1.        , 1.        , 1.        , 0.47867952, 1.        ,\n",
       "       1.        , 1.        , 1.        , 0.75848158, 1.        ,\n",
       "       1.        , 1.        , 0.73321365, 1.        , 1.        ,\n",
       "       1.        , 1.        , 1.        , 1.        , 1.        ,\n",
       "       0.43874173, 1.        , 1.        , 1.        , 1.        ,\n",
       "       1.        , 1.        , 1.        , 0.58868222, 1.        ,\n",
       "       0.44653014, 1.        , 1.        , 0.1327787 , 0.42551374,\n",
       "       1.        , 0.59376275, 0.27126656, 1.        , 1.        ,\n",
       "       1.        , 1.        , 1.        , 1.        , 0.37614159,\n",
       "       1.        , 0.5714151 , 1.        , 1.        , 1.        ,\n",
       "       0.40890247, 0.65848218, 1.        , 0.44669241, 1.        ,\n",
       "       1.        , 1.        , 1.        , 1.        , 1.        ,\n",
       "       1.        , 1.        , 1.        , 1.        , 1.        ,\n",
       "       1.        , 0.50668714, 1.        , 0.43255373, 1.        ,\n",
       "       1.        , 1.        , 1.        , 1.        , 0.44831572,\n",
       "       1.        , 1.        , 1.        , 1.        , 0.9355772 ,\n",
       "       1.        , 0.07928043, 1.        , 1.        , 1.        ,\n",
       "       1.        , 0.56655837, 0.0174783 , 1.        , 1.        ,\n",
       "       0.99021898, 1.        , 1.        , 1.        , 0.59444726,\n",
       "       1.        , 1.        ])"
      ]
     },
     "execution_count": 35,
     "metadata": {},
     "output_type": "execute_result"
    }
   ],
   "source": [
    "rlm_model.weights"
   ]
  },
  {
   "cell_type": "code",
   "execution_count": null,
   "metadata": {},
   "outputs": [
    {
     "name": "stdout",
     "output_type": "stream",
     "text": [
      "\t 0\n",
      "const   -20.915\n",
      "depth     0.888\n",
      "dtype: float64\n",
      "\t 1\n",
      "const   -15.277\n",
      "depth     0.644\n",
      "dtype: float64\n",
      "\t 2\n",
      "const   -4.082\n",
      "depth    0.190\n",
      "dtype: float64\n",
      "0.8876213815315456 -20.915391725117736\n",
      "0.6444712245507569 -15.277281976323232\n",
      "0.1898634169385973 -4.082095389870829\n",
      "\t 0\n",
      "const          2.594\n",
      "astrom_prec   -1.809\n",
      "dtype: float64\n",
      "\t 1\n",
      "const          1.742\n",
      "astrom_prec   -1.264\n",
      "dtype: float64\n",
      "\t 2\n",
      "const          0.913\n",
      "astrom_prec   -0.355\n",
      "dtype: float64\n",
      "-1.8085425015113596 2.5938946852360685\n",
      "-1.2641072504368567 1.7417043756544177\n",
      "-0.3547526509293416 0.9131003691480977\n",
      "\t 0\n",
      "const     0.582\n",
      "pm_unc    0.704\n",
      "dtype: float64\n",
      "\t 1\n",
      "const     1.069\n",
      "pm_unc   -4.000\n",
      "dtype: float64\n",
      "\t 2\n",
      "const     0.863\n",
      "pm_unc   -1.962\n",
      "dtype: float64\n",
      "0.7042957000673218 0.5821108676969589\n",
      "-4.00023639991698 1.068587424569186\n",
      "-1.9621485329187023 0.8628763786229854\n",
      "\t 0\n"
     ]
    }
   ],
   "source": [
    "cm = plt.get_cmap('tab10')\n",
    "params = {}\n",
    "colors = np.array( [cm.colors[3],cm.colors[1],cm.colors[0]])\n",
    "fig, axs = plt.subplots(2,2,figsize=(20,20))\n",
    "for i,(ax, sysm, unit) in enumerate(zip(axs.flatten(),\n",
    "                                        ['depth', 'astrom_prec', 'pm_unc', 'sigma_dT'],\n",
    "                                  [r' $[ mag]$', r' $[arcsec]$', r' $[\\frac{mas}{yr}]$', r' $[ d]$'])):\n",
    "    \n",
    "    params[sysm]  = pd.DataFrame(index = ['CI','LS','TPM'], columns = ['intercept','intercept_err' ,'slope', 'slope_err'])\n",
    "    for j, (metric,color) in enumerate(zip(['CI','LS','TPM'], colors)):\n",
    "            p=0\n",
    "            print (\"\\t\", j)\n",
    "            x_fit = sm.add_constant(data_plot[sysm])\n",
    "            fit_model = sm.RLM(data_plot[metric],  x_fit,\n",
    "                               M=sm.robust.norms.HuberT()).fit()\n",
    "            \n",
    "            fit_mask = fit_model.weights\n",
    "            #print (fit_mask)\n",
    "            # you cannot remove the data - that gives you a different line fit \n",
    "            #X,Y = np.array(data_plot[sysm])[np.where(fit_mask>0.3)], np.array(data_plot[metric])[np.where(fit_mask>0.3)]\n",
    "            #plot = pd.DataFrame({sysm:X, metric:Y})\n",
    "            params[sysm]['slope'].iloc[j], params[sysm]['intercept'].iloc[j] = fit_model.params[sysm], fit_model.params['const']\n",
    "            params[sysm]['slope_err'].iloc[j], params[sysm]['intercept_err'].iloc[j] =fit_model.bse[sysm], fit_model.bse['const']\n",
    "            p = sns.regplot(x=data_plot[sysm], y=data_plot[metric], label=metric, \n",
    "                        robust=True, ax=ax, color=color, scatter_kws={\"alpha\":fit_mask})\n",
    "            print(fit_model.params)\n",
    "            #ax.scatter(data_plot[sysm], y=data_plot[metric], \n",
    "                        #alpha=fit_mask)\n",
    "            \n",
    "            \n",
    "            #ax.plot(np.array(data_plot[sysm])[np.where(fit_mask<=0.3)], \n",
    "                    #np.array(data_plot[metric])[np.where(fit_mask<=0.3)],\n",
    "                    #marker='X',markersize= 10 ,ls='', color=color)\n",
    "    #plt.show()\n",
    "    for j in range(3):\n",
    "        x=p.get_lines()[j].get_xdata()\n",
    "        y=p.get_lines()[j].get_ydata()\n",
    "        slope, intercept, r_value, p_value, std_err = scipy.stats.linregress(x, y)\n",
    "        #ax.plot(np.linspace(2,25), slope*np.linspace(2,25) +\n",
    "                  # intercept, 'k-')\n",
    "        print(slope, intercept)\n",
    "            \n",
    "    ax.set_ylabel(r'$PM_{MAF}$', fontsize=22) \n",
    "    ax.tick_params(axis='both', labelsize=18)\n",
    "    \n",
    "    if sysm =='sigma_dT':\n",
    "        ax.set_xlabel(r'$\\sigma_{dT}$'+unit , fontsize=22)\n",
    "    elif sysm =='pm_unc':\n",
    "        ax.set_xlabel(r'$\\sigma_{\\mu}$'+unit , fontsize=22)\n",
    "        ax.set_xlim([data_plot[sysm].min() - 0.005,\n",
    "                     0.2])\n",
    "    else:\n",
    "        ax.set_xlabel(sysm+unit , fontsize=22)\n",
    "    ax.set_ylim([0.05,1.05])\n",
    "    if i ==0:\n",
    "        ax.legend(loc = 3, fontsize=18)\n",
    "    \n",
    "    \n",
    "plt.savefig('./FoM-sysperf.pdf')"
   ]
  },
  {
   "cell_type": "code",
   "execution_count": 99,
   "metadata": {},
   "outputs": [
    {
     "name": "stdout",
     "output_type": "stream",
     "text": [
      "\\begin{tabular}{llllll}\n",
      "\\toprule\n",
      "         &     & intercept & intercept\\_err &   slope & slope\\_err \\\\\n",
      "\\midrule\n",
      "depth & CI &     0.888 &         0.035 & -20.915 &     0.856 \\\\\n",
      "         & LS &     0.644 &          0.05 & -15.277 &     1.211 \\\\\n",
      "         & TPM &      0.19 &         0.027 &  -4.082 &     0.653 \\\\\n",
      "astrom\\_prec & CI &    -1.809 &         0.074 &   2.594 &     0.078 \\\\\n",
      "         & LS &    -1.264 &         0.093 &   1.742 &     0.099 \\\\\n",
      "         & TPM &    -0.355 &         0.052 &   0.913 &     0.056 \\\\\n",
      "pm\\_unc & CI &     0.704 &           0.2 &   0.582 &     0.034 \\\\\n",
      "         & LS &      -4.0 &         0.178 &   1.069 &      0.03 \\\\\n",
      "         & TPM &    -1.962 &         0.075 &   0.863 &     0.013 \\\\\n",
      "sigma\\_dT & CI &     0.004 &         0.002 &  -0.028 &     0.358 \\\\\n",
      "         & LS &     0.004 &         0.003 &  -0.286 &     0.488 \\\\\n",
      "         & TPM &     0.002 &         0.001 &   0.233 &     0.158 \\\\\n",
      "\\bottomrule\n",
      "\\end{tabular}\n",
      "\n"
     ]
    },
    {
     "name": "stderr",
     "output_type": "stream",
     "text": [
      "/var/folders/9p/2yw79snx27scqbt2xszxkfyc0000gp/T/ipykernel_28482/2180794676.py:2: FutureWarning: In future versions `DataFrame.to_latex` is expected to utilise the base implementation of `Styler.to_latex` for formatting and rendering. The arguments signature may therefore change. It is recommended instead to use `DataFrame.style.to_latex` which also contains additional functionality.\n",
      "  print(pd.concat(params).to_latex())\n"
     ]
    }
   ],
   "source": [
    "pd.set_option(\"display.precision\", 3)\n",
    "print(pd.concat(params).to_latex())\n"
   ]
  },
  {
   "cell_type": "code",
   "execution_count": 100,
   "metadata": {},
   "outputs": [
    {
     "data": {
      "text/plain": [
       "const       1.578e-01\n",
       "sigma_dT    9.171e-04\n",
       "dtype: float64"
      ]
     },
     "execution_count": 100,
     "metadata": {},
     "output_type": "execute_result"
    }
   ],
   "source": [
    "fit_model.bse"
   ]
  },
  {
   "cell_type": "code",
   "execution_count": null,
   "metadata": {},
   "outputs": [],
   "source": []
  }
 ],
 "metadata": {
  "kernelspec": {
   "display_name": "Python 3 (ipykernel)",
   "language": "python",
   "name": "python3"
  },
  "language_info": {
   "codemirror_mode": {
    "name": "ipython",
    "version": 3
   },
   "file_extension": ".py",
   "mimetype": "text/x-python",
   "name": "python",
   "nbconvert_exporter": "python",
   "pygments_lexer": "ipython3",
   "version": "3.9.13"
  }
 },
 "nbformat": 4,
 "nbformat_minor": 2
}
