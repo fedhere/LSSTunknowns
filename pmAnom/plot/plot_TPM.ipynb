{
 "cells": [
  {
   "cell_type": "code",
   "execution_count": null,
   "id": "e6c39763",
   "metadata": {},
   "outputs": [],
   "source": [
    "import numpy as np\n",
    "import os, glob, sys, pickle, itertools,warnings\n",
    "import pandas as pd\n",
    "import matplotlib.pyplot as plt\n",
    "from itertools import product\n",
    "import matplotlib\n",
    "from scipy.stats import *\n",
    "from matplotlib.patches import Patch\n",
    "import colorcet as cc\n",
    "import seaborn as sns"
   ]
  },
  {
   "cell_type": "code",
   "execution_count": null,
   "id": "c8470aa8",
   "metadata": {},
   "outputs": [],
   "source": [
    "f = open('./data/TPM_maf_0to10yrs_v2.0_noDD.p','rb')\n",
    "tpm = pd.DataFrame(pickle.load(f))\n",
    "cum = []\n",
    "med = []\n",
    "for ops in tpm.index:\n",
    "    m, b=np.histogram(tpm['TPM_10yrs'][ops].data[~np.isnan(tpm['TPM_10yrs'][ops].data)], bins=np.linspace(0,0.5,30))\n",
    "    med.append(m)\n",
    "    cum.append(np.cumsum(m))\n",
    "med = np.median(med,axis=0)\n",
    "med = np.append(med,[0])\n",
    "\n",
    "ks= np.empty_like(tpm.index)\n",
    "for i, ops in enumerate(tpm.index):\n",
    "    m, b=np.histogram(tpm['TPM_10yrs'][ops].data[~np.isnan(tpm['TPM_10yrs'][ops].data)], bins=np.linspace(0,0.5,30))\n",
    "    ks[i]=(ks_2samp(m,med).statistic)\n",
    "\n",
    "tpm.index[np.where(ks>0.15)]\n",
    "\n",
    "ops_fam = []\n",
    "for op in tpm.index:\n",
    "    o=op.split('_')\n",
    "    if o[0]!= 'vary':\n",
    "        ops_fam.append(o[0])\n",
    "    else:\n",
    "        ops_fam.append(o[0]+'_'+o[1])\n",
    "\n",
    "ops_fam=np.unique(ops_fam)\n",
    "\n",
    "ops_fam.sort()"
   ]
  },
  {
   "cell_type": "code",
   "execution_count": null,
   "id": "288d2674",
   "metadata": {},
   "outputs": [],
   "source": [
    "palette = sns.color_palette(cc.glasbey, n_colors=np.size(ops_fam))\n",
    "print(palette)"
   ]
  },
  {
   "cell_type": "code",
   "execution_count": null,
   "id": "d97aba1a",
   "metadata": {},
   "outputs": [],
   "source": [
    "cm = np.concatenate([plt.get_cmap('tab20').colors,plt.get_cmap('Set3').colors])\n",
    "plt.rc('xtick',labelsize=20)\n",
    "plt.rc('ytick',labelsize=20)\n",
    "fig, ax = plt.subplots(2,1,figsize=(15,14))\n",
    "patches=[]\n",
    "n=1\n",
    "cmap =[]\n",
    "legend_elements = []\n",
    "#legend_elem = []\n",
    "ax[0].step(b,med,where='post',color='k',linewidth=3,zorder=100)\n",
    "#legend_elem.append(Patch(facecolor='white', edgecolor='k',label='mean', linewidth=3))\n",
    "for j, (f,c) in enumerate(zip(ops_fam[::-1],palette)):\n",
    "    print([f,c])\n",
    "    for ops in np.sort(tpm.index):   \n",
    "        if ops=='baseline_nexp2_v1.7.1_10yrs':\n",
    "            continue\n",
    "        if f in ops:\n",
    "            a = 0.4\n",
    "            cmap.append(matplotlib.colors.rgb2hex(c))\n",
    "            nbin= 30 #int(0.5*(len(tpm[ops]['TPM'].data[~np.isnan(tpm[ops]['TPM'].data)])**(1/3))/(3.49*np.std(tpm[ops]['TPM'].data[~np.isnan(tpm[ops]['TPM'].data)])))\n",
    "            ax[1].hist(tpm['TPM_10yrs'][ops].data[~np.isnan(tpm['TPM_10yrs'][ops].data)], bins=np.linspace(0,0.5,nbin), cumulative=True,density=True, histtype='step', alpha=a,color=c,lw=3)\n",
    "            ax[0].hist(tpm['TPM_10yrs'][ops].data[~np.isnan(tpm['TPM_10yrs'][ops].data)], bins=np.linspace(0,0.5,nbin), cumulative=False,density=False, histtype='step', alpha=a,color=c,lw=3)\n",
    "            ax[0].set_xticklabels([])\n",
    "            ax[1].set_xlabel('transients recovery rate', fontsize=32)\n",
    "            ax[1].set_ylabel('cumulative fraction', fontsize=32)\n",
    "            ax[0].set_ylabel(' N', fontsize=32)\n",
    "            \n",
    "    legend_elements.append(Patch(facecolor='white', edgecolor=c,label=f, linewidth=3, alpha =a))\n",
    "legend_elements.append(Patch(facecolor='white', edgecolor='k',label='mean', linewidth=3))\n",
    "#ax[0].legend(handles=legend_elem,bbox_to_anchor=(0,0.8), loc='lower left',fontsize=20)                   \n",
    "ax[1].legend(handles=legend_elements,ncol=3,bbox_to_anchor=(0.,1.45), loc='lower left',fontsize=18)\n",
    "plt.subplots_adjust(hspace=0.05)   #legl = leg.get_lines()(-0.02, -2.92)\n",
    "ax[1].set_xlim([-0.001,0.505])\n",
    "ax[0].set_xlim([-0.001,0.505])\n",
    "ax[1].set_ylim([0,1.01])\n",
    "plt.savefig('TPM_10.pdf')"
   ]
  }
 ],
 "metadata": {
  "kernelspec": {
   "display_name": "rubin",
   "language": "python",
   "name": "rubin"
  },
  "language_info": {
   "codemirror_mode": {
    "name": "ipython",
    "version": 3
   },
   "file_extension": ".py",
   "mimetype": "text/x-python",
   "name": "python",
   "nbconvert_exporter": "python",
   "pygments_lexer": "ipython3",
   "version": "3.10.6"
  }
 },
 "nbformat": 4,
 "nbformat_minor": 5
}
