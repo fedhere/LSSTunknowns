{
 "cells": [
  {
   "cell_type": "markdown",
   "metadata": {},
   "source": [
    "### plot histogram of dT"
   ]
  },
  {
   "cell_type": "code",
   "execution_count": 1,
   "metadata": {},
   "outputs": [],
   "source": [
    "import os\n",
    "import numpy as np\n",
    "import pandas as pd\n",
    "import matplotlib\n",
    "import matplotlib.pyplot as plt\n",
    "%matplotlib inline\n",
    "import healpy as hp\n",
    "\n"
   ]
  },
  {
   "cell_type": "code",
   "execution_count": 2,
   "metadata": {},
   "outputs": [],
   "source": [
    "plt.rc('legend', fontsize=20) # using a size in points\n",
    "plt.rc('xtick', labelsize=16)\n",
    "plt.rc('ytick', labelsize=16)\n",
    "plt.rcParams['axes.labelsize'] = 16"
   ]
  },
  {
   "cell_type": "code",
   "execution_count": 3,
   "metadata": {},
   "outputs": [],
   "source": [
    "# load opsim database\n",
    "dbpath_v15 = \"/home/idies/workspace/lsst_cadence/FBS_1.5/\"  # path to all opsim databases\n",
    "\n",
    "dbpath_v17 = \"/home/idies/workspace/lsst_cadence/FBS_1.7/\"\n",
    "\n",
    "\n",
    "# output directory\n",
    "dataRawDir = '/home/idies/workspace/Temporary/lixl/scratch/outDir/dataRaw/'\n"
   ]
  },
  {
   "cell_type": "code",
   "execution_count": 4,
   "metadata": {},
   "outputs": [],
   "source": [
    "# get the name of all opsim dbs \n",
    "import glob\n",
    "\n",
    "workpath = os.getcwd()\n",
    "#workpath = '/home/idies/workspace/Storage/lixl/persistent/LSST_OpSim/unknowns'\n",
    "\n",
    "os.chdir(dbpath_v15)  # change to opsim database directory\n",
    "dblist_all_v15 = glob.glob('*.db') \n",
    "\n",
    "os.chdir(dbpath_v17)  # change to opsim database directory\n",
    "dblist_all_v17 = glob.glob('*.db') \n",
    "\n",
    "os.chdir(workpath) # change back to work directory\n",
    "dblist_all_v15.sort()\n",
    "dblist_all_v17.sort()\n",
    "\n"
   ]
  },
  {
   "cell_type": "code",
   "execution_count": 5,
   "metadata": {},
   "outputs": [],
   "source": [
    "fltpairs = ['uu', 'ug', 'ur', 'ui', 'uz', 'uy', 'gg', 'gr', 'gi', 'gz', 'gy',\n",
    "           'rr', 'ri', 'rz', 'ry', 'ii', 'iz', 'iy', 'zz', 'zy', 'yy' ]\n",
    "\n",
    "fltpairs_db = ['db','uu', 'ug', 'ur', 'ui', 'uz', 'uy', 'gg', 'gr', 'gi', 'gz', 'gy',\n",
    "           'rr', 'ri', 'rz', 'ry', 'ii', 'iz', 'iy', 'zz', 'zy', 'yy' ]"
   ]
  },
  {
   "cell_type": "markdown",
   "metadata": {},
   "source": [
    "### tgaps distribution one filter pair"
   ]
  },
  {
   "cell_type": "code",
   "execution_count": 6,
   "metadata": {},
   "outputs": [
    {
     "data": {
      "text/plain": [
       "'baseline_v1.5_10yrs.db'"
      ]
     },
     "execution_count": 6,
     "metadata": {},
     "output_type": "execute_result"
    }
   ],
   "source": [
    "dblist_all_v15[5]"
   ]
  },
  {
   "cell_type": "code",
   "execution_count": 7,
   "metadata": {},
   "outputs": [],
   "source": [
    "msname= 'WFD'\n",
    "\n",
    "dbname = dblist_all_v15[5]\n",
    "\n",
    "dataRaw = pd.read_pickle(dataRawDir+'/tgaps_{}_{}.pkl'.format(dbname,msname))\n",
    "\n"
   ]
  },
  {
   "cell_type": "code",
   "execution_count": 12,
   "metadata": {},
   "outputs": [
    {
     "data": {
      "text/html": [
       "<div>\n",
       "<style scoped>\n",
       "    .dataframe tbody tr th:only-of-type {\n",
       "        vertical-align: middle;\n",
       "    }\n",
       "\n",
       "    .dataframe tbody tr th {\n",
       "        vertical-align: top;\n",
       "    }\n",
       "\n",
       "    .dataframe thead th {\n",
       "        text-align: right;\n",
       "    }\n",
       "</style>\n",
       "<table border=\"1\" class=\"dataframe\">\n",
       "  <thead>\n",
       "    <tr style=\"text-align: right;\">\n",
       "      <th></th>\n",
       "      <th>pixId</th>\n",
       "      <th>Dkl</th>\n",
       "      <th>FoM_i</th>\n",
       "      <th>Nv</th>\n",
       "      <th>dT_lim</th>\n",
       "    </tr>\n",
       "  </thead>\n",
       "  <tbody>\n",
       "    <tr>\n",
       "      <th>0</th>\n",
       "      <td>1376</td>\n",
       "      <td>8.412043</td>\n",
       "      <td>0.473901</td>\n",
       "      <td>2133</td>\n",
       "      <td>[1107.9697404653343, 689.1527814895671, 1797.1...</td>\n",
       "    </tr>\n",
       "    <tr>\n",
       "      <th>1</th>\n",
       "      <td>1377</td>\n",
       "      <td>7.993932</td>\n",
       "      <td>0.499844</td>\n",
       "      <td>1481</td>\n",
       "      <td>[1120.9121385704639, 680.1152054756676, 1801.0...</td>\n",
       "    </tr>\n",
       "    <tr>\n",
       "      <th>2</th>\n",
       "      <td>1378</td>\n",
       "      <td>6.976234</td>\n",
       "      <td>1.323214</td>\n",
       "      <td>1417</td>\n",
       "      <td>[1376.282341142345, 2575.880733501952, 1199.59...</td>\n",
       "    </tr>\n",
       "    <tr>\n",
       "      <th>3</th>\n",
       "      <td>1379</td>\n",
       "      <td>6.740559</td>\n",
       "      <td>2.609826</td>\n",
       "      <td>2208</td>\n",
       "      <td>[49.85954275959375, 325.0589301454602, 275.199...</td>\n",
       "    </tr>\n",
       "    <tr>\n",
       "      <th>4</th>\n",
       "      <td>1380</td>\n",
       "      <td>8.409469</td>\n",
       "      <td>0.200028</td>\n",
       "      <td>898</td>\n",
       "      <td>[466.64562791385833, 373.8081807857525, 92.837...</td>\n",
       "    </tr>\n",
       "  </tbody>\n",
       "</table>\n",
       "</div>"
      ],
      "text/plain": [
       "   pixId       Dkl     FoM_i    Nv  \\\n",
       "0   1376  8.412043  0.473901  2133   \n",
       "1   1377  7.993932  0.499844  1481   \n",
       "2   1378  6.976234  1.323214  1417   \n",
       "3   1379  6.740559  2.609826  2208   \n",
       "4   1380  8.409469  0.200028   898   \n",
       "\n",
       "                                              dT_lim  \n",
       "0  [1107.9697404653343, 689.1527814895671, 1797.1...  \n",
       "1  [1120.9121385704639, 680.1152054756676, 1801.0...  \n",
       "2  [1376.282341142345, 2575.880733501952, 1199.59...  \n",
       "3  [49.85954275959375, 325.0589301454602, 275.199...  \n",
       "4  [466.64562791385833, 373.8081807857525, 92.837...  "
      ]
     },
     "execution_count": 12,
     "metadata": {},
     "output_type": "execute_result"
    }
   ],
   "source": [
    "df = dataRaw[dbname]['rr']\n",
    "df.head()"
   ]
  },
  {
   "cell_type": "code",
   "execution_count": 13,
   "metadata": {},
   "outputs": [],
   "source": [
    "dT_lim = np.concatenate( df.dT_lim.values )"
   ]
  },
  {
   "cell_type": "code",
   "execution_count": 15,
   "metadata": {},
   "outputs": [
    {
     "data": {
      "text/plain": [
       "Text(0.5, 1.0, 'allgaps within 10yrs')"
      ]
     },
     "execution_count": 15,
     "metadata": {},
     "output_type": "execute_result"
    },
    {
     "data": {
      "image/png": "[encoded data removed]",
      "text/plain": [
       "<Figure size 576x432 with 1 Axes>"
      ]
     },
     "metadata": {
      "needs_background": "light"
     },
     "output_type": "display_data"
    }
   ],
   "source": [
    "tmin = 30/60/60/24 # in days\n",
    "#tmax = 3e8/60./60./24  \n",
    "tmax = 3e8/60./60./24  \n",
    "# histogram in log space\n",
    "bins=np.logspace(np.log10(tmin), np.log10(tmax), 100)\n",
    " \n",
    "#bins=np.linspace(tmin, tmax, 200)\n",
    "\n",
    "plt.figure(figsize=(8,6))\n",
    "plt.hist(dT_lim, bins=bins);\n",
    "plt.xscale('log')\n",
    "#plt.xlim([0, 5/60/60/24 ])\n",
    "plt.xlabel(\"time gaps (days)\")\n",
    "plt.ylabel(\"N\")\n",
    "plt.ticklabel_format(axis=\"y\", style=\"sci\", scilimits=(0,0))\n",
    "plt.legend([\"baseline\"])\n",
    "plt.title(\"allgaps within 10yrs\", fontdict={\"fontsize\":16})"
   ]
  },
  {
   "cell_type": "markdown",
   "metadata": {},
   "source": [
    "### plot"
   ]
  },
  {
   "cell_type": "code",
   "execution_count": 8,
   "metadata": {},
   "outputs": [],
   "source": [
    "\n",
    "tmin = 5/60/60/24 # 5s in days\n",
    "tmax = 3e8/60./60./24 # 10yrs in days\n",
    "# histogram in log space\n",
    "bins_log=np.logspace(np.log10(tmin), np.log10(tmax), 50)\n",
    "\n",
    "\n",
    "#tmin = 5/60/60/24\n",
    "#tmax = 1.5/24 # 1.5 hour in days\n",
    "# hist bins in linspace\n",
    "#bins_lin = np.linspace(tmin, tmax, 50)\n",
    "\n",
    "tmin = 5/60 # 5s in min\n",
    "tmax = 1.5 * 60 # 1.5hour in min\n",
    "bins_log2=np.logspace(np.log10(tmin), np.log10(tmax), 50)\n"
   ]
  },
  {
   "cell_type": "code",
   "execution_count": 12,
   "metadata": {
    "collapsed": true
   },
   "outputs": [
    {
     "name": "stdout",
     "output_type": "stream",
     "text": [
      "value sum 2468080\n",
      "uu 2468080 5.398810362201651\n",
      "value sum 70578\n",
      "ug 70578 10.087027837354611\n",
      "value sum 66368\n",
      "ur 66368 9.935909402548146\n",
      "value sum 9339\n",
      "ui 9339 8.28940940309263\n",
      "value sum 0\n",
      "uz 0 nan\n",
      "value sum 50\n",
      "uy 50 8.221146055990351\n",
      "value sum 5330741\n",
      "gg 5330741 5.312331831053857\n",
      "value sum 127608\n",
      "gr 127608 10.311776022270775\n",
      "value sum 24946\n",
      "gi 24946 10.014700307192422\n",
      "value sum 987\n",
      "gz 987 7.3889687726673285\n",
      "value sum 494\n",
      "gy 494 6.708886472548894\n",
      "value sum 29186938\n",
      "rr 29186938 5.787795755226195\n",
      "value sum 180466\n",
      "ri 180466 10.405803677739307\n",
      "value sum 14403\n",
      "rz 14403 9.498195464109079\n",
      "value sum 2043\n",
      "ry 2043 7.706359109460154\n",
      "value sum 29609453\n",
      "ii 29609453 6.215477775914526\n",
      "value sum 206627\n",
      "iz 206627 10.547239883847002\n",
      "value sum 38139\n",
      "iy 38139 9.430703136183368\n",
      "value sum 23694537\n",
      "zz 23694537 6.00344538601065\n",
      "value sum 174632\n",
      "zy 174632 10.423314297878491\n",
      "value sum 26094240\n",
      "yy 26094240 5.950768567363721\n"
     ]
    }
   ],
   "source": [
    "# prepare filter_dict\n",
    "\n",
    "dbname = 'baseline_v1.5_10yrs.db'\n",
    "msname= 'WFD'\n",
    "\n",
    "dataRaw = pd.read_pickle(dataRawDir+'/tgaps_{}_{}.pkl'.format(dbname,msname))\n",
    "\n",
    "fltpairs = ['uu', 'ug', 'ur', 'ui', 'uz', 'uy', 'gg', 'gr', 'gi', 'gz', 'gy',\n",
    "           'rr', 'ri', 'rz', 'ry', 'ii', 'iz', 'iy', 'zz', 'zy', 'yy' ]\n",
    "unit = ['day', 'min'] # units for same- and different-filter pair\n",
    "\n",
    "unitdic = {\"day\": 1, \"hour\": 24, \"min\":24*60 }\n",
    "\n",
    "filter_dict = {}\n",
    "for fltpair in fltpairs:\n",
    "    filter_dict[fltpair] = {}\n",
    "    df = dataRaw[dbname][fltpair]\n",
    "    dT = np.concatenate( df ['dT_lim'].values )\n",
    "    \n",
    "\n",
    "    if fltpair[0]==fltpair[1]:\n",
    "        ## select tmin<dT<tmax\n",
    "        filter_dict[fltpair]['dT'] = dT\n",
    "        \n",
    "        bins = bins_log\n",
    "        values, bins_ = np.histogram(dT*unitdic[ unit[0] ], bins=bins);\n",
    "    else:\n",
    "        ## select tmin<dT<tmax\n",
    "        dT = dT[dT<1.5/24]  # within 1.5h\n",
    "        filter_dict[fltpair]['dT'] = dT # in days\n",
    "        \n",
    "        bins = bins_log2\n",
    "        values, bins_ = np.histogram(dT *unitdic[ unit[1] ], bins=bins);\n",
    "\n",
    "    Dkl = get_Dkl(values, ideal='uniform', bins=50)\n",
    "    \n",
    "    filter_dict[fltpair]['Dkl'] = Dkl\n",
    "    print(fltpair, len(dT),  Dkl)"
   ]
  },
  {
   "cell_type": "code",
   "execution_count": 17,
   "metadata": {},
   "outputs": [
    {
     "data": {
      "text/plain": [
       "{'dT': array([0.01582791, 0.01602381, 0.01587874, ..., 0.01578326, 0.01584207,\n",
       "        0.01609781]),\n",
       " 'Dkl': 10.087027837354611}"
      ]
     },
     "execution_count": 17,
     "metadata": {},
     "output_type": "execute_result"
    }
   ],
   "source": [
    "filter_dict['ug']"
   ]
  },
  {
   "cell_type": "code",
   "execution_count": 61,
   "metadata": {},
   "outputs": [
    {
     "name": "stdout",
     "output_type": "stream",
     "text": [
      "uu 2468080\n",
      "ug 70578\n",
      "ur 66368\n",
      "ui 9339\n",
      "uz 0\n",
      "uy 50\n",
      "gg 5330741\n",
      "gr 127608\n",
      "gi 24946\n",
      "gz 987\n",
      "gy 494\n",
      "rr 29186938\n",
      "ri 180466\n",
      "rz 14403\n",
      "ry 2043\n",
      "ii 29609453\n",
      "iz 206627\n",
      "iy 38139\n",
      "zz 23694537\n",
      "zy 174632\n",
      "yy 26094240\n"
     ]
    },
    {
     "data": {
      "image/png": "[encoded data removed]",
      "text/plain": [
       "<Figure size 1440x1440 with 38 Axes>"
      ]
     },
     "metadata": {
      "needs_background": "light"
     },
     "output_type": "display_data"
    }
   ],
   "source": [
    "\n",
    "\n",
    "tmin = 5/60/60/24 # 5s in days\n",
    "tmax = 3e8/60./60./24 # 10yrs in days\n",
    "# histogram in log space\n",
    "bins_log=np.logspace(np.log10(tmin), np.log10(tmax), 50)\n",
    "\n",
    "\n",
    "#tmin = 5/60/60/24\n",
    "#tmax = 1.5/24 # 1.5 hour in days\n",
    "# hist bins in linspace\n",
    "#bins_lin = np.linspace(tmin, tmax, 50)\n",
    "\n",
    "tmin = 5/60 # 5s in min\n",
    "tmax = 1.5 * 60 # 1.5hour \n",
    "bins_log2=np.logspace(np.log10(tmin), np.log10(tmax), 50)\n",
    "\n",
    "plot_hist_colorbar(filter_dict, figsize=(20, 20), histbins=[bins_log*24, bins_log2], xscale=['log', 'linear'], unit=['hour', 'min'],\n",
    "                   cumulative=False, density=False, histtype='stepfilled')\n",
    "\n",
    "\n",
    "\n"
   ]
  },
  {
   "cell_type": "code",
   "execution_count": null,
   "metadata": {
    "scrolled": false
   },
   "outputs": [
    {
     "name": "stdout",
     "output_type": "stream",
     "text": [
      "uu 2468080\n",
      "ug 70578\n",
      "ur 66368\n",
      "ui 9339\n",
      "uz 0\n",
      "uy 50\n",
      "gg 5330741\n",
      "gr 127608\n",
      "gi 24946\n",
      "gz 987\n",
      "gy 494\n",
      "rr 29186938\n",
      "ri 180466\n",
      "rz 14403\n",
      "ry 2043\n",
      "ii 29609453\n",
      "iz 206627\n",
      "iy 38139\n",
      "zz 23694537\n",
      "zy 174632\n",
      "yy 26094240\n"
     ]
    }
   ],
   "source": [
    "\n",
    "\n",
    "tmin = 5/60/60/24 # 5s in days\n",
    "tmax = 3e8/60./60./24 # 10yrs in days\n",
    "# histogram in log space\n",
    "bins_log=np.logspace(np.log10(tmin), np.log10(tmax), 50)\n",
    "\n",
    "\n",
    "#tmin = 5/60/60/24\n",
    "#tmax = 1.5/24 # 1.5 hour in days\n",
    "# hist bins in linspace\n",
    "#bins_lin = np.linspace(tmin, tmax, 50)\n",
    "\n",
    "tmin = 5/60 # 5s in min\n",
    "tmax = 1.5 * 60 # 1.5hour \n",
    "bins_log2=np.logspace(np.log10(tmin), np.log10(tmax), 50)\n",
    "\n",
    "plot_hist_colorbar(filter_dict, figsize=(20, 20), histbins=[bins_log*24, bins_log2], xscale=['log', 'log'], unit=['hour', 'min'],\n",
    "                   cumulative=False, density=False, histtype='stepfilled')\n",
    "\n",
    "\n"
   ]
  },
  {
   "cell_type": "code",
   "execution_count": 37,
   "metadata": {},
   "outputs": [
    {
     "data": {
      "text/plain": [
       "90.0"
      ]
     },
     "execution_count": 37,
     "metadata": {},
     "output_type": "execute_result"
    }
   ],
   "source": [
    "1.5 * 60"
   ]
  },
  {
   "cell_type": "code",
   "execution_count": 66,
   "metadata": {},
   "outputs": [
    {
     "data": {
      "image/png": "[encoded data removed]",
      "text/plain": [
       "<Figure size 864x360 with 2 Axes>"
      ]
     },
     "metadata": {
      "needs_background": "light"
     },
     "output_type": "display_data"
    }
   ],
   "source": [
    "# plot a distribution with uniform \n",
    "\n",
    "key = 'gi'\n",
    "dT = filter_dict[key]['dT'] * 24 * 60 \n",
    "fig, axs = plt.subplots(nrows=1, ncols=2, figsize=(12, 5))\n",
    "\n",
    "dkltex = '$D_{KL}$'\n",
    "title = '{} {}={:.2f}'.format(key, dkltex, filter_dict[key] ['Dkl'])\n",
    "\n",
    "#uni = np.random.uniform(low=dT.min(), high=dT.max(), size=len(dT) )\n",
    "\n",
    "#bins_lin = np.linspace(dT.min(), dT.max(), 50)\n",
    "\n",
    "\n",
    "#low = np.log(dT.min())\n",
    "#high = np.log(dT.max())\n",
    "\n",
    "low = np.log(5/60) # 5s in min\n",
    "high = np.log(1.5 * 60) # 1.5hour in min\n",
    "uni = np.power(10, np.random.uniform(low=low, high=high, size=len(dT) ) )\n",
    "\n",
    "#tmin = dT.min()\n",
    "#tmax = dT.max()\n",
    "#bins_log=np.logspace(np.log10(tmin), np.log10(tmax), 50)\n",
    "\n",
    "tmin = 5/60 # 5s in min\n",
    "tmax = 1.5 * 60 # 1.5hour in min\n",
    "bins_log=np.logspace(np.log10(tmin), np.log10(tmax), 50)\n",
    "\n",
    "\n",
    "ax = axs[0]\n",
    "_ = ax.hist(dT, bins=bins_log, label=title, linewidth=2,\n",
    "                          cumulative=False, density=False, histtype='step' );\n",
    "_ = ax.hist(uni, bins=bins_log, label='uniform', alpha=1, color='indianred', linewidth=2, linestyle='--',\n",
    "                          cumulative=False, density=False, histtype='step'  );\n",
    "ax.legend(loc='upper left')\n",
    "ax.set_xlabel('$\\Delta t$ (mins)')\n",
    "ax.set_ylabel('Nv (k)')\n",
    "ax.ticklabel_format(axis='y', style='scientific', scilimits=(0,0), )\n",
    "ax.set_xscale('linear')\n",
    "ax.yaxis.get_offset_text().set_visible(False)\n",
    "\n",
    "# --------------------------\n",
    "key = 'gg'\n",
    "dT = filter_dict[key]['dT'] * 24\n",
    "\n",
    "low = np.log(dT.min())\n",
    "high = np.log(dT.max())\n",
    "uni = np.power(10, np.random.uniform(low=low, high=high, size=len(dT) ) )\n",
    "\n",
    "title = '{} {}={:.2f}'.format(key, dkltex, filter_dict[key] ['Dkl'])\n",
    "\n",
    "\n",
    "#tmin = dT.min()\n",
    "#tmax = dT.max()\n",
    "#bins_log=np.logspace(np.log10(tmin), np.log10(tmax), 50)\n",
    "\n",
    "tmin = 5/60/60/24 # in days\n",
    "tmax = 3e8/60./60./24    \n",
    "# histogram in log space\n",
    "bins_log=np.logspace(np.log10(tmin), np.log10(tmax), 50) * 24\n",
    "\n",
    "\n",
    "ax = axs[1]\n",
    "_ = ax.hist(dT, bins=bins_log, label=title, linewidth=2, \n",
    "                          cumulative=False, density=False, histtype='step' );\n",
    "\n",
    "_ = ax.hist(uni, bins=bins_log, label='uniform', alpha=1, color='indianred', linewidth=2, linestyle='dashed',\n",
    "                          cumulative=False, density=False, histtype='step'  );\n",
    "ax.set_xscale('log')\n",
    "ax.ticklabel_format(axis='y', style='sci', scilimits=(0,0), )\n",
    "ax.legend(loc='upper left')\n",
    "ax.set_xlabel('$\\Delta t$ (hours)')\n",
    "ax.set_ylabel('Nv (M)')\n",
    "\n",
    "ax.yaxis.get_offset_text().set_visible(False)\n",
    "\n"
   ]
  },
  {
   "cell_type": "code",
   "execution_count": 10,
   "metadata": {},
   "outputs": [],
   "source": [
    "def get_Dkl(values, ideal='uniform', bins=50):\n",
    "    '''kl divergence for histogram'''\n",
    "    print(f\"value sum {values.sum()}\")\n",
    "    if values.any():\n",
    "        values = values + 0.00001  # make each element non-zero\n",
    "        prob = (values) / values.sum()  \n",
    "    \n",
    "        if ideal=='uniform':\n",
    "            prob_ideal = np.ones( len(prob) ) / len(prob)\n",
    "        elif ideal=='lognormal':\n",
    "            # create a lognormal dist\n",
    "            print(f'values {values.sum()}')\n",
    "            \n",
    "            mode = 1/3 # mode of lognormal, at 20min\n",
    "            mean = 0.8 # mean of lognormal\n",
    "\n",
    "            mu = np.log(mode*mean) / 2\n",
    "            sig = np.sqrt( np.log(mean/mode) /2 )\n",
    "\n",
    "            logn = np.random.lognormal(mean=mu, sigma=sig, size=int(values.sum()) )\n",
    "            values_, _ = np.histogram(logn, bins=bins);\n",
    "            \n",
    "            print(f'values_ {values_.sum()}')\n",
    "            values_ = values_ + 0.00001  # make each element non-zero\n",
    "            prob_ideal = (values_) / values_.sum()  \n",
    "            \n",
    "        return np.sum( prob_ideal * np.log(prob_ideal / prob) )\n",
    "    \n",
    "    else:\n",
    "        return np.NaN\n"
   ]
  },
  {
   "cell_type": "code",
   "execution_count": 67,
   "metadata": {},
   "outputs": [],
   "source": [
    "def plot_hist_colorbar(filter_dict, figsize=(20, 20), histbins=[50, 50], xscale=['log', 'lin'], unit=['day', 'min'], vmax=10000, **kwargs):\n",
    "    \"\"\"plot histogram\n",
    "    Inputs:\n",
    "        filter_dict: ['uu']['dT']\n",
    "        \n",
    "    \"\"\"\n",
    "    #fig, axs = plt.subplots(6, 6, figsize=figsize, constrained_layout=True); # 6 axes on a 2x3 grid\n",
    "    fig, axs = plt.subplots(6, 6, figsize=figsize, constrained_layout=True);\n",
    "    flt = ['u', 'g', 'r', 'i', 'z', 'y']\n",
    "    fdict = {'u':0, 'g':1, 'r':2, 'i':3, 'z':4, 'y':5}\n",
    "    unitdic = {\"day\": 1, \"hour\": 24, \"min\":24*60 }\n",
    "\n",
    "    cmap = matplotlib.cm.OrRd\n",
    "    for i, f0 in enumerate(flt):\n",
    "        for f1 in flt[i:]:\n",
    "            key = '{}{}'.format(f0, f1)\n",
    "            dT = filter_dict[key] ['dT']\n",
    "            #eDkl = filter_dict[key] ['eDkl']\n",
    "            \n",
    "            #title = '{}{} Nv={} $D_k$={:.2f}'.format(f0, f1, len(dT), filter_dict[key] ['Dkl'])                   \n",
    "            dkltex = '$D_{KL}$'\n",
    "            title = '{} {}={:.2f}'.format(key, dkltex, filter_dict[key] ['Dkl'])\n",
    "\n",
    "            if f0==f1:\n",
    "                vmin1 = 100000\n",
    "                vmax1 = 30000000\n",
    "                norm = matplotlib.colors.Normalize(vmin=vmin1, vmax=vmax1)\n",
    "                m1 = matplotlib.cm.ScalarMappable(norm=norm, cmap=cmap)\n",
    "                \n",
    "                ax = axs[fdict[f0], 5]\n",
    "                axs[fdict[f0], fdict[f1]].axis('off')\n",
    "                # plot distribution\n",
    "                Nv = len(dT)\n",
    "                if Nv!=0:\n",
    "                    values, bins, _ = ax.hist(dT*unitdic[ unit[0] ], bins=histbins[0], color=m1.to_rgba(Nv), label=title, **kwargs );\n",
    "                    ax.legend(loc='upper center', handlelength=0, handletextpad=0, frameon=False)\n",
    "                ax.set_xscale( xscale[0] )\n",
    "                \n",
    "            else:\n",
    "                axs[fdict[f0], fdict[f1]].axis('off')\n",
    "                ax = axs[fdict[f1], fdict[f0]]\n",
    "                \n",
    "                vmin2 = 0\n",
    "                vmax2 = 200000\n",
    "                norm = matplotlib.colors.Normalize(vmin=vmin2, vmax=vmax2)\n",
    "                m2 = matplotlib.cm.ScalarMappable(norm=norm, cmap=cmap)\n",
    "\n",
    "                # plot distribution\n",
    "                Nv = len(dT)\n",
    "                #if Nv!=0:\n",
    "                values, bins, _ = ax.hist(dT*unitdic[ unit[1] ], bins=histbins[1], color=m2.to_rgba(Nv), label=title, **kwargs );\n",
    "                ax.legend(loc='upper center', handlelength=0, handletextpad=0, frameon=False)\n",
    "                ax.set_xscale( xscale[1] )\n",
    "                ax.set_xticks([60])\n",
    "                \n",
    "            \n",
    "            # ax.ticklabel_format(axis=\"y\", style=\"sci\", scilimits=(0,0))\n",
    "\n",
    "            # ax.set_title(title)\n",
    "            \n",
    "            if fdict[f1]!=5:\n",
    "                ax.get_xaxis().set_ticklabels([])\n",
    "                \n",
    "            ax.get_yaxis().set_ticks([])\n",
    "            #ax.set_ylabel('N fields')\n",
    "            print(key, Nv)\n",
    "    for i in range(6):\n",
    "        #axs[i, i].axis('off')\n",
    "        axs[i, 5].axis('on')    \n",
    "        \n",
    "        if i==5:\n",
    "            axs[5, i].set_xlabel(f'$\\Delta t$ ({unit[0]}s)')\n",
    "        else:\n",
    "            axs[5, i].set_xlabel(f'$\\Delta t$ ({unit[1]}s)')\n",
    "    \n",
    "    # cbar diagonal\n",
    "    m1.set_array(np.linspace(vmin1, vmax1) ) \n",
    "    cbar1 = fig.colorbar(mappable=m1, ax=axs[:,5], shrink=1, location='bottom')\n",
    "    cbar1.set_label(r'Nv ($\\times 10^7$)')\n",
    "    cbar1.ax.xaxis.get_offset_text().set_visible(False)\n",
    "\n",
    "\n",
    "    #cbar1.formatter.set_powerlimits((0, 0))\n",
    "    #cbar1.update_ticks()\n",
    "    \n",
    "    # for off diagonal\n",
    "    m2.set_array(np.linspace(vmin2, vmax2) ) \n",
    "    cbar2 = fig.colorbar(mappable=m2, ax=axs[:,:5], shrink=.6, location='bottom')\n",
    "    cbar2.set_label(r'Nv ($\\times 10^5$)')\n",
    "    cbar2.set_clim([0, vmax2])\n",
    "\n",
    "    cbar2.formatter.set_powerlimits((0, 0))\n",
    "    cbar2.update_ticks()\n",
    "    cbar2.ax.xaxis.get_offset_text().set_visible(False)\n",
    "    \n",
    "    #fig.suptitle(dbfile, fontsize=16)\n",
    "    #fig.savefig('{}.png'.format(filename), dpi=200)\n",
    "    #fig.tight_layout( pad=1.0 )\n",
    "\n",
    "\n"
   ]
  },
  {
   "cell_type": "code",
   "execution_count": null,
   "metadata": {},
   "outputs": [],
   "source": []
  }
 ],
 "metadata": {
  "kernelspec": {
   "display_name": "Python 3",
   "language": "python",
   "name": "python3"
  },
  "language_info": {
   "codemirror_mode": {
    "name": "ipython",
    "version": 3
   },
   "file_extension": ".py",
   "mimetype": "text/x-python",
   "name": "python",
   "nbconvert_exporter": "python",
   "pygments_lexer": "ipython3",
   "version": "3.7.2"
  }
 },
 "nbformat": 4,
 "nbformat_minor": 4
}
