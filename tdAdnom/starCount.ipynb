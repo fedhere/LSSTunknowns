{
 "cells": [
  {
   "cell_type": "code",
   "execution_count": 15,
   "metadata": {},
   "outputs": [],
   "source": [
    "import os\n",
    "import numpy as np\n",
    "import pandas as pd\n",
    "import matplotlib\n",
    "import matplotlib.pyplot as plt\n",
    "%matplotlib inline\n",
    "import seaborn as sn\n",
    "\n",
    "import healpy as hp\n",
    "import lsst.sims.maf.metrics as metrics\n",
    "import lsst.sims.maf.slicers as slicers\n",
    "import lsst.sims.maf.metricBundles as metricBundles\n",
    "import lsst.sims.maf.db as db\n",
    "import lsst.sims.maf.plots as plots\n",
    "\n",
    "\n"
   ]
  },
  {
   "cell_type": "code",
   "execution_count": 36,
   "metadata": {},
   "outputs": [],
   "source": [
    "import lsst.sims.maf.maps as maps"
   ]
  },
  {
   "cell_type": "code",
   "execution_count": 5,
   "metadata": {},
   "outputs": [],
   "source": [
    "plt.rc('legend', fontsize=20) # using a size in points\n",
    "plt.rc('xtick', labelsize=16)\n",
    "plt.rc('ytick', labelsize=16)\n",
    "plt.rcParams['axes.labelsize'] = 16"
   ]
  },
  {
   "cell_type": "code",
   "execution_count": 6,
   "metadata": {},
   "outputs": [],
   "source": [
    "# load opsim database\n",
    "dbpath_v15 = \"/home/idies/workspace/lsst_cadence/FBS_1.5/\"  # path to all opsim databases\n",
    "\n",
    "dbpath_v17 = \"/home/idies/workspace/lsst_cadence/FBS_1.7/\"\n",
    "\n",
    "dbpath_v171 = \"/home/idies/workspace/lsst_cadence/FBS_1.7.1/\"\n",
    "\n",
    "\n",
    "# output directory\n",
    "dataRawDir = '/home/idies/workspace/Temporary/lixl/scratch/outDir/tGaps/'\n",
    "\n",
    "outDir = '/home/idies/workspace/Temporary/lixl/scratch/outDir/resultsDb/'\n",
    "resultsDb = db.ResultsDb(outDir=outDir)\n",
    "\n"
   ]
  },
  {
   "cell_type": "code",
   "execution_count": 7,
   "metadata": {},
   "outputs": [],
   "source": [
    "# get the name of all opsim dbs \n",
    "import glob\n",
    "\n",
    "workpath = os.getcwd()\n",
    "#workpath = '/home/idies/workspace/Storage/lixl/persistent/LSST_OpSim/unknowns'\n",
    "\n",
    "os.chdir(dbpath_v15)  # change to opsim database directory\n",
    "dblist_v15 = glob.glob('*.db') \n",
    "\n",
    "os.chdir(dbpath_v17)  # change to opsim database directory\n",
    "dblist_v17 = glob.glob('*.db') \n",
    "\n",
    "os.chdir(dbpath_v171)  # change to opsim database directory\n",
    "dblist_v171 = glob.glob('*.db') \n",
    "\n",
    "os.chdir(workpath) # change back to work directory\n",
    "\n",
    "dblist_v15.sort()\n",
    "dblist_v17.sort()\n",
    "dblist_v171.sort()\n",
    "\n",
    "\n"
   ]
  },
  {
   "cell_type": "code",
   "execution_count": 34,
   "metadata": {},
   "outputs": [],
   "source": [
    "from scipy.interpolate import interp1d\n",
    "\n",
    "#__all__ = ['StarDensityMetric']\n",
    "\n",
    "class StarDensityMetric(metrics.BaseMetric):\n",
    "    \"\"\"Interpolate the stellar luminosity function to return the number of\n",
    "    stars per square arcsecond brighter than the rmagLimit. Note that the\n",
    "    map is built from CatSim stars in the range 20 < r < 28.\"\"\"\n",
    "\n",
    "    def __init__(self, rmagLimit=25., units='stars/sq arcsec', maps=['StellarDensityMap'], **kwargs):\n",
    "\n",
    "        super(StarDensityMetric, self).__init__(col=[], \n",
    "                                                maps=maps, units=units, **kwargs)\n",
    "        self.rmagLimit = rmagLimit\n",
    "\n",
    "    def run(self, dataSlice, slicePoint=None):\n",
    "        # Interpolate the data to the requested mag\n",
    "        interp = interp1d(slicePoint['starMapBins'][1:], slicePoint['starLumFunc'])\n",
    "        # convert from stars/sq degree to stars/sq arcsec\n",
    "        starDens = interp(self.rmagLimit)/(3600.**2)\n",
    "        \n",
    "        result = {}\n",
    "        result['starDens'] = starDens\n",
    "        result['slicePoint'] = slicePoint\n",
    "        \n",
    "        return starDens\n",
    "    \n",
    "#def reduce_star_count(self, metric):\n",
    "#    return metric['starDens']\n",
    "    \n"
   ]
  },
  {
   "cell_type": "code",
   "execution_count": 37,
   "metadata": {},
   "outputs": [],
   "source": [
    "stellardensitymap = maps.StellarDensityMap(filtername = 'g')"
   ]
  },
  {
   "cell_type": "code",
   "execution_count": 42,
   "metadata": {},
   "outputs": [
    {
     "name": "stdout",
     "output_type": "stream",
     "text": [
      "Healpix slicer using NSIDE=16, approximate resolution 219.871130 arcminutes\n",
      "Querying database SummaryAllProps with constraint proposalID =1 and note not like  \"DD%\" and night< 720 for columns ['fieldRA', 'fieldDec']\n",
      "Found 354605 visits\n",
      "Running:  ['newMetricSky']\n"
     ]
    },
    {
     "ename": "KeyError",
     "evalue": "'starMapBins'",
     "output_type": "error",
     "traceback": [
      "\u001b[0;31m\u001b[0m",
      "\u001b[0;31mKeyError\u001b[0mTraceback (most recent call last)",
      "\u001b[0;32m<ipython-input-42-5db0ae1f64b8>\u001b[0m in \u001b[0;36m<module>\u001b[0;34m\u001b[0m\n\u001b[1;32m     18\u001b[0m \u001b[0;34m\u001b[0m\u001b[0m\n\u001b[1;32m     19\u001b[0m \u001b[0;31m# run\u001b[0m\u001b[0;34m\u001b[0m\u001b[0;34m\u001b[0m\u001b[0;34m\u001b[0m\u001b[0m\n\u001b[0;32m---> 20\u001b[0;31m \u001b[0mgroup\u001b[0m\u001b[0;34m.\u001b[0m\u001b[0mrunAll\u001b[0m\u001b[0;34m(\u001b[0m\u001b[0;34m)\u001b[0m\u001b[0;34m\u001b[0m\u001b[0;34m\u001b[0m\u001b[0m\n\u001b[0m\u001b[1;32m     21\u001b[0m \u001b[0;31m#group.plotAll(closefigs = False)\u001b[0m\u001b[0;34m\u001b[0m\u001b[0;34m\u001b[0m\u001b[0;34m\u001b[0m\u001b[0m\n\u001b[1;32m     22\u001b[0m \u001b[0;34m\u001b[0m\u001b[0m\n",
      "\u001b[0;32m~/lsst/stack/miniconda3-4.7.10-4d7b902/Linux64/sims_maf/2.13.0.sims-24-gbe21ed04+1/python/lsst/sims/maf/metricBundles/metricBundleGroup.py\u001b[0m in \u001b[0;36mrunAll\u001b[0;34m(self, clearMemory, plotNow, plotKwargs)\u001b[0m\n\u001b[1;32m    240\u001b[0m             \u001b[0mself\u001b[0m\u001b[0;34m.\u001b[0m\u001b[0msetCurrent\u001b[0m\u001b[0;34m(\u001b[0m\u001b[0mconstraint\u001b[0m\u001b[0;34m)\u001b[0m\u001b[0;34m\u001b[0m\u001b[0;34m\u001b[0m\u001b[0m\n\u001b[1;32m    241\u001b[0m             self.runCurrent(constraint, clearMemory=clearMemory,\n\u001b[0;32m--> 242\u001b[0;31m                             plotNow=plotNow, plotKwargs=plotKwargs)\n\u001b[0m\u001b[1;32m    243\u001b[0m \u001b[0;34m\u001b[0m\u001b[0m\n\u001b[1;32m    244\u001b[0m     \u001b[0;32mdef\u001b[0m \u001b[0msetCurrent\u001b[0m\u001b[0;34m(\u001b[0m\u001b[0mself\u001b[0m\u001b[0;34m,\u001b[0m \u001b[0mconstraint\u001b[0m\u001b[0;34m)\u001b[0m\u001b[0;34m:\u001b[0m\u001b[0;34m\u001b[0m\u001b[0;34m\u001b[0m\u001b[0m\n",
      "\u001b[0;32m~/lsst/stack/miniconda3-4.7.10-4d7b902/Linux64/sims_maf/2.13.0.sims-24-gbe21ed04+1/python/lsst/sims/maf/metricBundles/metricBundleGroup.py\u001b[0m in \u001b[0;36mrunCurrent\u001b[0;34m(self, constraint, simData, clearMemory, plotNow, plotKwargs)\u001b[0m\n\u001b[1;32m    318\u001b[0m             \u001b[0;32mif\u001b[0m \u001b[0mself\u001b[0m\u001b[0;34m.\u001b[0m\u001b[0mverbose\u001b[0m\u001b[0;34m:\u001b[0m\u001b[0;34m\u001b[0m\u001b[0;34m\u001b[0m\u001b[0m\n\u001b[1;32m    319\u001b[0m                 \u001b[0mprint\u001b[0m\u001b[0;34m(\u001b[0m\u001b[0;34m'Running: '\u001b[0m\u001b[0;34m,\u001b[0m \u001b[0mcompatibleList\u001b[0m\u001b[0;34m)\u001b[0m\u001b[0;34m\u001b[0m\u001b[0;34m\u001b[0m\u001b[0m\n\u001b[0;32m--> 320\u001b[0;31m             \u001b[0mself\u001b[0m\u001b[0;34m.\u001b[0m\u001b[0m_runCompatible\u001b[0m\u001b[0;34m(\u001b[0m\u001b[0mcompatibleList\u001b[0m\u001b[0;34m)\u001b[0m\u001b[0;34m\u001b[0m\u001b[0;34m\u001b[0m\u001b[0m\n\u001b[0m\u001b[1;32m    321\u001b[0m             \u001b[0;32mif\u001b[0m \u001b[0mself\u001b[0m\u001b[0;34m.\u001b[0m\u001b[0mverbose\u001b[0m\u001b[0;34m:\u001b[0m\u001b[0;34m\u001b[0m\u001b[0;34m\u001b[0m\u001b[0m\n\u001b[1;32m    322\u001b[0m                 \u001b[0mprint\u001b[0m\u001b[0;34m(\u001b[0m\u001b[0;34m'Completed metric generation.'\u001b[0m\u001b[0;34m)\u001b[0m\u001b[0;34m\u001b[0m\u001b[0;34m\u001b[0m\u001b[0m\n",
      "\u001b[0;32m~/lsst/stack/miniconda3-4.7.10-4d7b902/Linux64/sims_maf/2.13.0.sims-24-gbe21ed04+1/python/lsst/sims/maf/metricBundles/metricBundleGroup.py\u001b[0m in \u001b[0;36m_runCompatible\u001b[0;34m(self, compatibleList)\u001b[0m\n\u001b[1;32m    476\u001b[0m                             \u001b[0mb\u001b[0m\u001b[0;34m.\u001b[0m\u001b[0mmetricValues\u001b[0m\u001b[0;34m.\u001b[0m\u001b[0mdata\u001b[0m\u001b[0;34m[\u001b[0m\u001b[0mi\u001b[0m\u001b[0;34m]\u001b[0m \u001b[0;34m=\u001b[0m \u001b[0mb\u001b[0m\u001b[0;34m.\u001b[0m\u001b[0mmetricValues\u001b[0m\u001b[0;34m.\u001b[0m\u001b[0mdata\u001b[0m\u001b[0;34m[\u001b[0m\u001b[0mcacheDict\u001b[0m\u001b[0;34m[\u001b[0m\u001b[0mcacheKey\u001b[0m\u001b[0;34m]\u001b[0m\u001b[0;34m]\u001b[0m\u001b[0;34m\u001b[0m\u001b[0;34m\u001b[0m\u001b[0m\n\u001b[1;32m    477\u001b[0m                         \u001b[0;32melse\u001b[0m\u001b[0;34m:\u001b[0m\u001b[0;34m\u001b[0m\u001b[0;34m\u001b[0m\u001b[0m\n\u001b[0;32m--> 478\u001b[0;31m                             \u001b[0mb\u001b[0m\u001b[0;34m.\u001b[0m\u001b[0mmetricValues\u001b[0m\u001b[0;34m.\u001b[0m\u001b[0mdata\u001b[0m\u001b[0;34m[\u001b[0m\u001b[0mi\u001b[0m\u001b[0;34m]\u001b[0m \u001b[0;34m=\u001b[0m \u001b[0mb\u001b[0m\u001b[0;34m.\u001b[0m\u001b[0mmetric\u001b[0m\u001b[0;34m.\u001b[0m\u001b[0mrun\u001b[0m\u001b[0;34m(\u001b[0m\u001b[0mslicedata\u001b[0m\u001b[0;34m,\u001b[0m \u001b[0mslicePoint\u001b[0m\u001b[0;34m=\u001b[0m\u001b[0mslice_i\u001b[0m\u001b[0;34m[\u001b[0m\u001b[0;34m'slicePoint'\u001b[0m\u001b[0;34m]\u001b[0m\u001b[0;34m)\u001b[0m\u001b[0;34m\u001b[0m\u001b[0;34m\u001b[0m\u001b[0m\n\u001b[0m\u001b[1;32m    479\u001b[0m                     \u001b[0;31m# If we are above the cache size, drop the oldest element from the cache dict.\u001b[0m\u001b[0;34m\u001b[0m\u001b[0;34m\u001b[0m\u001b[0;34m\u001b[0m\u001b[0m\n\u001b[1;32m    480\u001b[0m                     \u001b[0;32mif\u001b[0m \u001b[0mlen\u001b[0m\u001b[0;34m(\u001b[0m\u001b[0mcacheDict\u001b[0m\u001b[0;34m)\u001b[0m \u001b[0;34m>\u001b[0m \u001b[0mslicer\u001b[0m\u001b[0;34m.\u001b[0m\u001b[0mcacheSize\u001b[0m\u001b[0;34m:\u001b[0m\u001b[0;34m\u001b[0m\u001b[0;34m\u001b[0m\u001b[0m\n",
      "\u001b[0;32m<ipython-input-34-009ebc54ef8d>\u001b[0m in \u001b[0;36mrun\u001b[0;34m(self, dataSlice, slicePoint)\u001b[0m\n\u001b[1;32m     16\u001b[0m     \u001b[0;32mdef\u001b[0m \u001b[0mrun\u001b[0m\u001b[0;34m(\u001b[0m\u001b[0mself\u001b[0m\u001b[0;34m,\u001b[0m \u001b[0mdataSlice\u001b[0m\u001b[0;34m,\u001b[0m \u001b[0mslicePoint\u001b[0m\u001b[0;34m=\u001b[0m\u001b[0;32mNone\u001b[0m\u001b[0;34m)\u001b[0m\u001b[0;34m:\u001b[0m\u001b[0;34m\u001b[0m\u001b[0;34m\u001b[0m\u001b[0m\n\u001b[1;32m     17\u001b[0m         \u001b[0;31m# Interpolate the data to the requested mag\u001b[0m\u001b[0;34m\u001b[0m\u001b[0;34m\u001b[0m\u001b[0;34m\u001b[0m\u001b[0m\n\u001b[0;32m---> 18\u001b[0;31m         \u001b[0minterp\u001b[0m \u001b[0;34m=\u001b[0m \u001b[0minterp1d\u001b[0m\u001b[0;34m(\u001b[0m\u001b[0mslicePoint\u001b[0m\u001b[0;34m[\u001b[0m\u001b[0;34m'starMapBins'\u001b[0m\u001b[0;34m]\u001b[0m\u001b[0;34m[\u001b[0m\u001b[0;36m1\u001b[0m\u001b[0;34m:\u001b[0m\u001b[0;34m]\u001b[0m\u001b[0;34m,\u001b[0m \u001b[0mslicePoint\u001b[0m\u001b[0;34m[\u001b[0m\u001b[0;34m'starLumFunc'\u001b[0m\u001b[0;34m]\u001b[0m\u001b[0;34m)\u001b[0m\u001b[0;34m\u001b[0m\u001b[0;34m\u001b[0m\u001b[0m\n\u001b[0m\u001b[1;32m     19\u001b[0m         \u001b[0;31m# convert from stars/sq degree to stars/sq arcsec\u001b[0m\u001b[0;34m\u001b[0m\u001b[0;34m\u001b[0m\u001b[0;34m\u001b[0m\u001b[0m\n\u001b[1;32m     20\u001b[0m         \u001b[0mstarDens\u001b[0m \u001b[0;34m=\u001b[0m \u001b[0minterp\u001b[0m\u001b[0;34m(\u001b[0m\u001b[0mself\u001b[0m\u001b[0;34m.\u001b[0m\u001b[0mrmagLimit\u001b[0m\u001b[0;34m)\u001b[0m\u001b[0;34m/\u001b[0m\u001b[0;34m(\u001b[0m\u001b[0;36m3600.\u001b[0m\u001b[0;34m**\u001b[0m\u001b[0;36m2\u001b[0m\u001b[0;34m)\u001b[0m\u001b[0;34m\u001b[0m\u001b[0;34m\u001b[0m\u001b[0m\n",
      "\u001b[0;31mKeyError\u001b[0m: 'starMapBins'"
     ]
    }
   ],
   "source": [
    "metric = StarDensityMetric()\n",
    "\n",
    "sqlstr ='proposalID =1 and note not like  \"DD%\" and night< 720'\n",
    "slicer = slicers.HealpixSlicer(nside=16) \n",
    "\n",
    "# bundle\n",
    "newMetricSky = metricBundles.MetricBundle(metric, slicer, sqlconstraint, mapsList=[stellardensitymap])\n",
    "\n",
    "\n",
    "dbpath = dbpath_v15\n",
    "dbname = dblist_v15[-1]\n",
    "opsdb = db.OpsimDatabase(dbpath+dbname)\n",
    "\n",
    "# group bundle\n",
    "bundleDict = {'newMetricSky':newMetricSky}\n",
    "group = metricBundles.MetricBundleGroup(bundleDict, opsdb, outDir=outDir, resultsDb=resultsDb)\n",
    "\n",
    "# run\n",
    "group.runAll()\n",
    "#group.plotAll(closefigs = False)\n",
    "\n"
   ]
  },
  {
   "cell_type": "code",
   "execution_count": 21,
   "metadata": {
    "scrolled": true
   },
   "outputs": [
    {
     "data": {
      "text/plain": [
       "'wfd_depth_scale0.99_v1.5_10yrs.db'"
      ]
     },
     "execution_count": 21,
     "metadata": {},
     "output_type": "execute_result"
    }
   ],
   "source": [
    "dblist_v15[-1]"
   ]
  },
  {
   "cell_type": "code",
   "execution_count": null,
   "metadata": {},
   "outputs": [],
   "source": []
  },
  {
   "cell_type": "code",
   "execution_count": null,
   "metadata": {},
   "outputs": [],
   "source": []
  }
 ],
 "metadata": {
  "kernelspec": {
   "display_name": "Python 3",
   "language": "python",
   "name": "python3"
  },
  "language_info": {
   "codemirror_mode": {
    "name": "ipython",
    "version": 3
   },
   "file_extension": ".py",
   "mimetype": "text/x-python",
   "name": "python",
   "nbconvert_exporter": "python",
   "pygments_lexer": "ipython3",
   "version": "3.7.2"
  }
 },
 "nbformat": 4,
 "nbformat_minor": 4
}
