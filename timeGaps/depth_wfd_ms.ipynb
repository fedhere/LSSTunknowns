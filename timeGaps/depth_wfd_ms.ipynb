{
 "cells": [
  {
   "cell_type": "code",
   "execution_count": 2,
   "metadata": {},
   "outputs": [],
   "source": [
    "import os\n",
    "import glob\n",
    "import numpy as np\n",
    "import pandas as pd\n",
    "import matplotlib.pyplot as plt\n",
    "%matplotlib inline\n"
   ]
  },
  {
   "cell_type": "code",
   "execution_count": 27,
   "metadata": {},
   "outputs": [],
   "source": [
    "RERUN = False\n"
   ]
  },
  {
   "cell_type": "code",
   "execution_count": 46,
   "metadata": {},
   "outputs": [],
   "source": [
    "plt.style.use('default')\n",
    "plt.rc('legend', fontsize=20) # using a size in points\n",
    "plt.rc('xtick', labelsize=16)\n",
    "plt.rc('ytick', labelsize=16)"
   ]
  },
  {
   "cell_type": "code",
   "execution_count": 4,
   "metadata": {},
   "outputs": [],
   "source": [
    "workpath = os.getcwd()\n",
    "dbpath = '/home/idies/workspace/lsst_cadence/FBS_1.5/'\n",
    "# dbpath = '/home/idies/workspace/lsst_cadence/FBS_1.4/'"
   ]
  },
  {
   "cell_type": "code",
   "execution_count": 7,
   "metadata": {},
   "outputs": [],
   "source": [
    "#  get columns from databases\n",
    "def get_cols(dbfile, cols='night', lim=None):\n",
    "    \"\"\"\n",
    "    cols = 'night, observationStartMJD, fieldRA, fieldDec, filter, proposalId, note'\n",
    "    connect to database\n",
    "    Returns: a pandas DataFrame\n",
    "    \n",
    "    Examples:\n",
    "    \n",
    "    cols = 'night, observationStartMJD, fieldRA, filter, fieldDec, proposalId, note, '\n",
    "\n",
    "    df = get_cols(dbfile=dbpath + db, cols=cols, lim='night<300')\n",
    "   \n",
    "    \"\"\"\n",
    "    import sqlite3\n",
    "    import pandas as pd\n",
    "    connection = sqlite3.connect(dbfile)\n",
    "    cursor = connection.cursor()\n",
    "    \n",
    "    if lim!=None:\n",
    "        sqlstr = \"SELECT {} FROM SummaryAllProps where {}\".format(cols, lim)\n",
    "    else:\n",
    "        sqlstr = \"SELECT {} FROM SummaryAllProps\".format(cols)\n",
    "\n",
    "    print('connect to ', dbfile, '\\n', sqlstr)\n",
    "    cursor.execute(sqlstr)\n",
    "    data = cursor.fetchall()\n",
    "    \n",
    "    # convert data to dataframe\n",
    "    data_df = pd.DataFrame(data, columns=cols.split(', '))\n",
    "    \n",
    "    # close connection\n",
    "    connection.close()\n",
    "    \n",
    "    return data_df\n"
   ]
  },
  {
   "cell_type": "code",
   "execution_count": 6,
   "metadata": {
    "jupyter": {
     "outputs_hidden": true
    }
   },
   "outputs": [
    {
     "data": {
      "text/plain": [
       "['agnddf_v1.5_10yrs.db',\n",
       " 'alt_dust_v1.5_10yrs.db',\n",
       " 'alt_roll_mod2_dust_sdf_0.20_v1.5_10yrs.db',\n",
       " 'baseline_2snaps_v1.5_10yrs.db',\n",
       " 'baseline_samefilt_v1.5_10yrs.db',\n",
       " 'baseline_v1.5_10yrs.db',\n",
       " 'bulges_bs_v1.5_10yrs.db',\n",
       " 'bulges_bulge_wfd_v1.5_10yrs.db',\n",
       " 'bulges_cadence_bs_v1.5_10yrs.db',\n",
       " 'bulges_cadence_bulge_wfd_v1.5_10yrs.db',\n",
       " 'bulges_cadence_i_heavy_v1.5_10yrs.db',\n",
       " 'bulges_i_heavy_v1.5_10yrs.db',\n",
       " 'daily_ddf_v1.5_10yrs.db',\n",
       " 'dcr_nham1_ug_v1.5_10yrs.db',\n",
       " 'dcr_nham1_ugr_v1.5_10yrs.db',\n",
       " 'dcr_nham1_ugri_v1.5_10yrs.db',\n",
       " 'dcr_nham2_ug_v1.5_10yrs.db',\n",
       " 'dcr_nham2_ugr_v1.5_10yrs.db',\n",
       " 'dcr_nham2_ugri_v1.5_10yrs.db',\n",
       " 'descddf_v1.5_10yrs.db',\n",
       " 'filterdist_indx1_v1.5_10yrs.db',\n",
       " 'filterdist_indx2_v1.5_10yrs.db',\n",
       " 'filterdist_indx3_v1.5_10yrs.db',\n",
       " 'filterdist_indx4_v1.5_10yrs.db',\n",
       " 'filterdist_indx5_v1.5_10yrs.db',\n",
       " 'filterdist_indx6_v1.5_10yrs.db',\n",
       " 'filterdist_indx7_v1.5_10yrs.db',\n",
       " 'filterdist_indx8_v1.5_10yrs.db',\n",
       " 'footprint_add_mag_cloudsv1.5_10yrs.db',\n",
       " 'footprint_big_sky_dustv1.5_10yrs.db',\n",
       " 'footprint_big_sky_nouiyv1.5_10yrs.db',\n",
       " 'footprint_big_skyv1.5_10yrs.db',\n",
       " 'footprint_big_wfdv1.5_10yrs.db',\n",
       " 'footprint_bluer_footprintv1.5_10yrs.db',\n",
       " 'footprint_gp_smoothv1.5_10yrs.db',\n",
       " 'footprint_newAv1.5_10yrs.db',\n",
       " 'footprint_newBv1.5_10yrs.db',\n",
       " 'footprint_no_gp_northv1.5_10yrs.db',\n",
       " 'footprint_standard_goalsv1.5_10yrs.db',\n",
       " 'footprint_stuck_rollingv1.5_10yrs.db',\n",
       " 'goodseeing_gi_v1.5_10yrs.db',\n",
       " 'goodseeing_gri_v1.5_10yrs.db',\n",
       " 'goodseeing_griz_v1.5_10yrs.db',\n",
       " 'goodseeing_gz_v1.5_10yrs.db',\n",
       " 'goodseeing_i_v1.5_10yrs.db',\n",
       " 'greedy_footprint_v1.5_10yrs.db',\n",
       " 'roll_mod2_dust_sdf_0.20_v1.5_10yrs.db',\n",
       " 'rolling_mod2_sdf_0.10_v1.5_10yrs.db',\n",
       " 'rolling_mod2_sdf_0.20_v1.5_10yrs.db',\n",
       " 'rolling_mod3_sdf_0.10_v1.5_10yrs.db',\n",
       " 'rolling_mod3_sdf_0.20_v1.5_10yrs.db',\n",
       " 'rolling_mod6_sdf_0.10_v1.5_10yrs.db',\n",
       " 'rolling_mod6_sdf_0.20_v1.5_10yrs.db',\n",
       " 'short_exp_2ns_1expt_v1.5_10yrs.db',\n",
       " 'short_exp_2ns_5expt_v1.5_10yrs.db',\n",
       " 'short_exp_5ns_1expt_v1.5_10yrs.db',\n",
       " 'short_exp_5ns_5expt_v1.5_10yrs.db',\n",
       " 'spiders_v1.5_10yrs.db',\n",
       " 'third_obs_pt120v1.5_10yrs.db',\n",
       " 'third_obs_pt15v1.5_10yrs.db',\n",
       " 'third_obs_pt30v1.5_10yrs.db',\n",
       " 'third_obs_pt45v1.5_10yrs.db',\n",
       " 'third_obs_pt60v1.5_10yrs.db',\n",
       " 'third_obs_pt90v1.5_10yrs.db',\n",
       " 'twilight_neo_mod1_v1.5_10yrs.db',\n",
       " 'twilight_neo_mod2_v1.5_10yrs.db',\n",
       " 'twilight_neo_mod3_v1.5_10yrs.db',\n",
       " 'twilight_neo_mod4_v1.5_10yrs.db',\n",
       " 'u60_v1.5_10yrs.db',\n",
       " 'var_expt_v1.5_10yrs.db',\n",
       " 'wfd_depth_scale0.65_noddf_v1.5_10yrs.db',\n",
       " 'wfd_depth_scale0.65_v1.5_10yrs.db',\n",
       " 'wfd_depth_scale0.70_noddf_v1.5_10yrs.db',\n",
       " 'wfd_depth_scale0.70_v1.5_10yrs.db',\n",
       " 'wfd_depth_scale0.75_noddf_v1.5_10yrs.db',\n",
       " 'wfd_depth_scale0.75_v1.5_10yrs.db',\n",
       " 'wfd_depth_scale0.80_noddf_v1.5_10yrs.db',\n",
       " 'wfd_depth_scale0.80_v1.5_10yrs.db',\n",
       " 'wfd_depth_scale0.85_noddf_v1.5_10yrs.db',\n",
       " 'wfd_depth_scale0.85_v1.5_10yrs.db',\n",
       " 'wfd_depth_scale0.90_noddf_v1.5_10yrs.db',\n",
       " 'wfd_depth_scale0.90_v1.5_10yrs.db',\n",
       " 'wfd_depth_scale0.95_noddf_v1.5_10yrs.db',\n",
       " 'wfd_depth_scale0.95_v1.5_10yrs.db',\n",
       " 'wfd_depth_scale0.99_noddf_v1.5_10yrs.db',\n",
       " 'wfd_depth_scale0.99_v1.5_10yrs.db']"
      ]
     },
     "execution_count": 6,
     "metadata": {},
     "output_type": "execute_result"
    }
   ],
   "source": [
    "dblist_all"
   ]
  },
  {
   "cell_type": "code",
   "execution_count": 51,
   "metadata": {},
   "outputs": [],
   "source": [
    "# %matplotlib inline\n",
    "#plt.rcParams['font.size'] = 10\n",
    "\n",
    "def plot_maghist(df_list, label_list, var='fiveSigmaDepth', \n",
    "                 ylim=[0, 65000], yticks=[]):\n",
    "\n",
    "    \n",
    "  \n",
    "    \"\"\"plot histogram for each filter\"\"\"\n",
    "    bins = np.arange(18, 27, 0.1)\n",
    "    xs = (bins[:-1] + bins[1:]) * 0.5\n",
    "    bright = xs < 21\n",
    "    faint = xs >= 21\n",
    "    fig, axs = plt.subplots(6, 1, figsize=(6, 15), \n",
    "                            sharex='col', sharey='row',\n",
    "                            gridspec_kw={'hspace': 0, 'wspace': 0}); \n",
    "\n",
    "    axs = axs.flatten()\n",
    "    FILTERS = ['u', 'g', 'r', 'i', 'z', 'y']\n",
    "\n",
    "    mag_min = {'u':23.4, 'g':24.6, 'r':24.3, 'i':23.6, 'z':22.9, 'y':21.7 }\n",
    "    mag_stretch = {'u':24.0, 'g':25.1, 'r':24.8, 'i':24.1, 'z':23.4, 'y':22.2 }\n",
    "    mag_goal = {'u':23.9, 'g':25.0, 'r': 24.7, 'i': 24.0, 'z': 23.3, 'y': 22.1}\n",
    "    \n",
    "    cmap = plt.cm.get_cmap('plasma')\n",
    "    colors = [cmap(i) for i in np.linspace(0, 1, len(df_list)+1)][:len(df_list)]\n",
    "    for i, f in enumerate(FILTERS):\n",
    "        ax = axs[i]\n",
    "        print (f)\n",
    "        for k in range(2):\n",
    "            #plotting the edges and the inside of the bins separately\n",
    "            data_stacked = np.array([df[df['filter']==f][var].values for df in df_list])\n",
    "            if k:\n",
    "                #edges\n",
    "                _tmp = ax.hist(data_stacked, histtype='step', \n",
    "                               stacked=False, linewidth=2, label=label_list, \n",
    "                                bins=bins, alpha=0.65, color=colors);\n",
    "                dist = {}\n",
    "                for l,lab in enumerate(label_list):\n",
    "                    dist[lab] = _tmp[0][l]\n",
    "                    \n",
    "                    print(f, lab)\n",
    "                    peaks = xs[bright][np.where(dist[lab][bright] == \n",
    "                                                      dist[lab][bright].max())[0]]\n",
    "                    if len(peaks) <= 2:\n",
    "                        print(\"\\t bright\", peaks, dist[lab][bright].max())\n",
    "                    peaks = xs[faint][np.where(dist[lab][faint] == \n",
    "                                                       dist[lab][faint].max())[0]]\n",
    "                    if len(peaks) <= 2:\n",
    "                        print(\"\\t faint\", peaks, dist[lab][faint].max())\n",
    "                '''print(f, \"lowM\", xs[lowm][np.where(dist[lowm] == dist[lowm].max())[0]], \n",
    "                      dist[lowm].max())\n",
    "                print(f, \"highM\", xs[highm][np.where(dist[highm] == dist[highm].max())[0]], \n",
    "                      dist[highm].max())\n",
    "                      '''\n",
    "            else:\n",
    "                #filled bins\n",
    "                ax.hist(data_stacked[0],  \n",
    "                        stacked=False, linewidth=2, #edgewidth=2,\n",
    "                        bins=bins, histtype=\"stepfilled\", \n",
    "                        label=None, color=colors[0],  alpha=0.2);\n",
    " \n",
    "        ax.set_xlabel('fiveSigmaDepth', fontsize=18)\n",
    "        ax.set_ylabel('Nv (k)', fontsize=18)\n",
    "        ax.set_title(f, position=(0.95, 0.7), fontsize=18)\n",
    "        ax.set_xlim([19, 26])\n",
    "      \n",
    "        ax.set_xticks(np.arange(19, 26, 1))\n",
    "        ax.set_xticklabels(labels=[\"%i\"%k for k in np.arange(19, 26, 1)],\n",
    "                     fontsize=18)\n",
    "        \n",
    "        ax.set_ylim(ylim)\n",
    "        ax.set_yticks(yticks)\n",
    "        \n",
    "\n",
    "        \n",
    "        ax.set_yticklabels(labels=[\"%i\"%(k/10000) for k in yticks],\n",
    "                      fontsize=18)\n",
    "        ax.yaxis.get_offset_text().set_visible(False)\n",
    "        \n",
    "        # fill mag from science require document\n",
    "        y = np.linspace(0, ylim[1])\n",
    "        ax.fill_betweenx(y, mag_min[f], mag_stretch[f], \n",
    "                         color='gray', alpha=0.2)\n",
    "        ax.axvline(mag_goal[f],color='k') \n",
    "        \n",
    "    # add shared legend for all subplots \n",
    "    lines = []\n",
    "    labels = []\n",
    "    \n",
    "    for ax in fig.axes[:1]:\n",
    "        axLine, axLabel = ax.get_legend_handles_labels()\n",
    "        lines.extend(axLine)\n",
    "        labels.extend(axLabel)\n",
    "        ax.set_ylim(ylim)\n",
    "    fig.legend(lines, labels,           \n",
    "               loc = 'upper left', bbox_to_anchor=(0.1, 0.95))\n",
    "        \n",
    "    fig.tight_layout()\n",
    "    \n",
    "    "
   ]
  },
  {
   "cell_type": "code",
   "execution_count": null,
   "metadata": {},
   "outputs": [],
   "source": []
  },
  {
   "cell_type": "code",
   "execution_count": 15,
   "metadata": {},
   "outputs": [],
   "source": [
    "def get_pixId(df, nside=16):\n",
    "    '''get pixId for each field'''\n",
    "    pixId = RADec2pix(nside, ra=df['fieldRA'].values, dec=df['fieldDec'].values)\n",
    "    df['pixId'] = pixId\n",
    "    return df\n",
    "\n",
    "\n",
    "def RADec2pix(nside, ra, dec, degree=True):\n",
    "    \"\"\"\n",
    "    Calculate the nearest healpixel ID of an RA/Dec array, assuming nside.\n",
    "\n",
    "    Parameters\n",
    "    ----------\n",
    "    nside : int\n",
    "        The nside value of the healpix grid.\n",
    "    ra : numpy.ndarray\n",
    "        The RA values to be converted to healpix ids, in degree by default.\n",
    "    dec : numpy.ndarray\n",
    "        The Dec values to be converted to healpix ids, in degree by default.\n",
    "\n",
    "    Returns\n",
    "    -------\n",
    "    numpy.ndarray\n",
    "        The healpix ids.\n",
    "    \"\"\"\n",
    "    import healpy as hp\n",
    "    if degree:\n",
    "        ra = np.radians(ra) # change to radians\n",
    "        dec = np.radians(dec)\n",
    "    \n",
    "    lat = np.pi/2. - dec\n",
    "    hpid = hp.ang2pix(nside, lat, ra )\n",
    "    return hpid\n"
   ]
  },
  {
   "cell_type": "code",
   "execution_count": 32,
   "metadata": {},
   "outputs": [],
   "source": [
    "# get the name of all opsim dbs \n",
    "import glob\n",
    "    \n",
    "os.chdir(dbpath)  # change to opsim database directory\n",
    "dblist_all = glob.glob('*.db') \n",
    "# workpath = '/home/idies/workspace/Storage/lixl/persistent/LSST_OpSim/unknowns'\n",
    "os.chdir(workpath) # change back to work directory\n",
    "dblist_all.sort()\n"
   ]
  },
  {
   "cell_type": "markdown",
   "metadata": {},
   "source": [
    "### WFD"
   ]
  },
  {
   "cell_type": "code",
   "execution_count": 8,
   "metadata": {
    "jupyter": {
     "outputs_hidden": true
    }
   },
   "outputs": [
    {
     "name": "stdout",
     "output_type": "stream",
     "text": [
      "connect to  /home/idies/workspace/lsst_cadence/FBS_1.5/agnddf_v1.5_10yrs.db \n",
      " SELECT filter, fiveSigmaDepth, night FROM SummaryAllProps where proposalId=1\n",
      "agnddf_v1.5_10yrs.db u 23.596546835929928\n",
      "agnddf_v1.5_10yrs.db g 24.553977862122142\n",
      "agnddf_v1.5_10yrs.db r 24.06381571094485\n",
      "agnddf_v1.5_10yrs.db i 23.479031220196212\n",
      "agnddf_v1.5_10yrs.db z 22.802752876109977\n",
      "agnddf_v1.5_10yrs.db y 22.030345388505168\n",
      "connect to  /home/idies/workspace/lsst_cadence/FBS_1.5/alt_dust_v1.5_10yrs.db \n",
      " SELECT filter, fiveSigmaDepth, night FROM SummaryAllProps where proposalId=1\n",
      "alt_dust_v1.5_10yrs.db u 23.552836710528087\n",
      "alt_dust_v1.5_10yrs.db g 24.514700938296542\n",
      "alt_dust_v1.5_10yrs.db r 24.009913216028956\n",
      "alt_dust_v1.5_10yrs.db i 23.41863139915747\n",
      "alt_dust_v1.5_10yrs.db z 22.746577053651045\n",
      "alt_dust_v1.5_10yrs.db y 21.973123561257253\n",
      "connect to  /home/idies/workspace/lsst_cadence/FBS_1.5/alt_roll_mod2_dust_sdf_0.20_v1.5_10yrs.db \n",
      " SELECT filter, fiveSigmaDepth, night FROM SummaryAllProps where proposalId=1\n"
     ]
    },
    {
     "ename": "KeyboardInterrupt",
     "evalue": "",
     "output_type": "error",
     "traceback": [
      "\u001b[0;31m\u001b[0m",
      "\u001b[0;31mKeyboardInterrupt\u001b[0mTraceback (most recent call last)",
      "\u001b[0;32m<timed exec>\u001b[0m in \u001b[0;36m<module>\u001b[0;34m\u001b[0m\n",
      "\u001b[0;32m<ipython-input-7-61dc1db2b727>\u001b[0m in \u001b[0;36mget_cols\u001b[0;34m(dbfile, cols, lim)\u001b[0m\n\u001b[1;32m     25\u001b[0m     \u001b[0mprint\u001b[0m\u001b[0;34m(\u001b[0m\u001b[0;34m'connect to '\u001b[0m\u001b[0;34m,\u001b[0m \u001b[0mdbfile\u001b[0m\u001b[0;34m,\u001b[0m \u001b[0;34m'\\n'\u001b[0m\u001b[0;34m,\u001b[0m \u001b[0msqlstr\u001b[0m\u001b[0;34m)\u001b[0m\u001b[0;34m\u001b[0m\u001b[0;34m\u001b[0m\u001b[0m\n\u001b[1;32m     26\u001b[0m     \u001b[0mcursor\u001b[0m\u001b[0;34m.\u001b[0m\u001b[0mexecute\u001b[0m\u001b[0;34m(\u001b[0m\u001b[0msqlstr\u001b[0m\u001b[0;34m)\u001b[0m\u001b[0;34m\u001b[0m\u001b[0;34m\u001b[0m\u001b[0m\n\u001b[0;32m---> 27\u001b[0;31m     \u001b[0mdata\u001b[0m \u001b[0;34m=\u001b[0m \u001b[0mcursor\u001b[0m\u001b[0;34m.\u001b[0m\u001b[0mfetchall\u001b[0m\u001b[0;34m(\u001b[0m\u001b[0;34m)\u001b[0m\u001b[0;34m\u001b[0m\u001b[0;34m\u001b[0m\u001b[0m\n\u001b[0m\u001b[1;32m     28\u001b[0m \u001b[0;34m\u001b[0m\u001b[0m\n\u001b[1;32m     29\u001b[0m     \u001b[0;31m# convert data to dataframe\u001b[0m\u001b[0;34m\u001b[0m\u001b[0;34m\u001b[0m\u001b[0;34m\u001b[0m\u001b[0m\n",
      "\u001b[0;31mKeyboardInterrupt\u001b[0m: "
     ]
    }
   ],
   "source": [
    "if RERUN:\n",
    "    %%time\n",
    "    # calculate the FoM of depth\n",
    "    # 1 - (peak - mag_stretch)\n",
    "    sqlstr = 'proposalId=1'\n",
    "\n",
    "    mag_stretch = {'u':24.0, 'g':25.1, 'r':24.8, 'i':24.1, 'z':23.4, 'y':22.2 }\n",
    "    bins = np.arange(18, 27, 0.01)\n",
    "\n",
    "    dicFoM = {}\n",
    "\n",
    "    filters = ['u', 'g', 'r', 'i', 'z', 'y']\n",
    "    for i, dbname in enumerate( dblist_all):\n",
    "        df_opsim = get_cols(dbfile=dbpath+dbname,\n",
    "                   cols='filter, fiveSigmaDepth, night', lim=sqlstr)\n",
    "        dicFoM[dbname] = {}\n",
    "        for f in filters:\n",
    "            m5 = df_opsim [df_opsim['filter']==f]['fiveSigmaDepth'].values\n",
    "            # method to calculate figure of merit of depth from fiveSigmaDepth\n",
    "            #values, bins, = np.histogram(m5, bins=bins) \n",
    "            #mode = bins[ np.argmax(values) ]\n",
    "            # \n",
    "            mode = np.median(m5)\n",
    "        \n",
    "            #FoM =  mode - mag_stretch[f]\n",
    "            FoM = mode\n",
    "            #FoM = np.mean(m5)\n",
    "        \n",
    "            dicFoM[dbname][f] = FoM\n",
    "            print(dbname, f, FoM)\n",
    "    df = pd.DataFrame( dicFoM ).T\n",
    "    df = df.reset_index()\n",
    "    df = df.rename(columns = {'index':'db'})\n",
    "    df.to_csv('data/depthFoM_mag_v1.5.csv', index=False)\n"
   ]
  },
  {
   "cell_type": "code",
   "execution_count": 35,
   "metadata": {},
   "outputs": [
    {
     "data": {
      "text/plain": [
       "'/home/idies/workspace/Storage/fbianco/persistent/LSSTunknowns/timeGaps'"
      ]
     },
     "execution_count": 35,
     "metadata": {},
     "output_type": "execute_result"
    }
   ],
   "source": [
    "pwd"
   ]
  },
  {
   "cell_type": "code",
   "execution_count": 28,
   "metadata": {},
   "outputs": [],
   "source": [
    "# read in the dataframe \n",
    "if not RERUN:\n",
    "    df = pd.read_csv('data/depthFoM_mag_v1.5.csv')\n"
   ]
  },
  {
   "cell_type": "code",
   "execution_count": 29,
   "metadata": {},
   "outputs": [
    {
     "data": {
      "text/html": [
       "<div>\n",
       "<style scoped>\n",
       "    .dataframe tbody tr th:only-of-type {\n",
       "        vertical-align: middle;\n",
       "    }\n",
       "\n",
       "    .dataframe tbody tr th {\n",
       "        vertical-align: top;\n",
       "    }\n",
       "\n",
       "    .dataframe thead th {\n",
       "        text-align: right;\n",
       "    }\n",
       "</style>\n",
       "<table border=\"1\" class=\"dataframe\">\n",
       "  <thead>\n",
       "    <tr style=\"text-align: right;\">\n",
       "      <th></th>\n",
       "      <th>db</th>\n",
       "      <th>g</th>\n",
       "      <th>i</th>\n",
       "      <th>r</th>\n",
       "      <th>u</th>\n",
       "      <th>y</th>\n",
       "      <th>z</th>\n",
       "    </tr>\n",
       "  </thead>\n",
       "  <tbody>\n",
       "    <tr>\n",
       "      <th>0</th>\n",
       "      <td>agnddf_v1.5_10yrs.db</td>\n",
       "      <td>24.553978</td>\n",
       "      <td>23.479031</td>\n",
       "      <td>24.063816</td>\n",
       "      <td>23.596547</td>\n",
       "      <td>22.030345</td>\n",
       "      <td>22.802753</td>\n",
       "    </tr>\n",
       "    <tr>\n",
       "      <th>1</th>\n",
       "      <td>alt_dust_v1.5_10yrs.db</td>\n",
       "      <td>24.514701</td>\n",
       "      <td>23.418631</td>\n",
       "      <td>24.009913</td>\n",
       "      <td>23.552837</td>\n",
       "      <td>21.973124</td>\n",
       "      <td>22.746577</td>\n",
       "    </tr>\n",
       "  </tbody>\n",
       "</table>\n",
       "</div>"
      ],
      "text/plain": [
       "                       db          g          i          r          u  \\\n",
       "0    agnddf_v1.5_10yrs.db  24.553978  23.479031  24.063816  23.596547   \n",
       "1  alt_dust_v1.5_10yrs.db  24.514701  23.418631  24.009913  23.552837   \n",
       "\n",
       "           y          z  \n",
       "0  22.030345  22.802753  \n",
       "1  21.973124  22.746577  "
      ]
     },
     "execution_count": 29,
     "metadata": {},
     "output_type": "execute_result"
    }
   ],
   "source": [
    "df.head()"
   ]
  },
  {
   "cell_type": "code",
   "execution_count": 31,
   "metadata": {
    "scrolled": true
   },
   "outputs": [
    {
     "data": {
      "text/plain": [
       "['agnddf_v1.5_10yrs.db',\n",
       " 'alt_dust_v1.5_10yrs.db',\n",
       " 'alt_roll_mod2_dust_sdf_0.20_v1.5_10yrs.db',\n",
       " 'baseline_2snaps_v1.5_10yrs.db',\n",
       " 'baseline_samefilt_v1.5_10yrs.db',\n",
       " 'baseline_v1.5_10yrs.db',\n",
       " 'bulges_bs_v1.5_10yrs.db',\n",
       " 'bulges_bulge_wfd_v1.5_10yrs.db',\n",
       " 'bulges_cadence_bs_v1.5_10yrs.db',\n",
       " 'bulges_cadence_bulge_wfd_v1.5_10yrs.db',\n",
       " 'bulges_cadence_i_heavy_v1.5_10yrs.db',\n",
       " 'bulges_i_heavy_v1.5_10yrs.db',\n",
       " 'daily_ddf_v1.5_10yrs.db',\n",
       " 'dcr_nham1_ug_v1.5_10yrs.db',\n",
       " 'dcr_nham1_ugr_v1.5_10yrs.db',\n",
       " 'dcr_nham1_ugri_v1.5_10yrs.db',\n",
       " 'dcr_nham2_ug_v1.5_10yrs.db',\n",
       " 'dcr_nham2_ugr_v1.5_10yrs.db',\n",
       " 'dcr_nham2_ugri_v1.5_10yrs.db',\n",
       " 'descddf_v1.5_10yrs.db',\n",
       " 'filterdist_indx1_v1.5_10yrs.db',\n",
       " 'filterdist_indx2_v1.5_10yrs.db',\n",
       " 'filterdist_indx3_v1.5_10yrs.db',\n",
       " 'filterdist_indx4_v1.5_10yrs.db',\n",
       " 'filterdist_indx5_v1.5_10yrs.db',\n",
       " 'filterdist_indx6_v1.5_10yrs.db',\n",
       " 'filterdist_indx7_v1.5_10yrs.db',\n",
       " 'filterdist_indx8_v1.5_10yrs.db',\n",
       " 'footprint_add_mag_cloudsv1.5_10yrs.db',\n",
       " 'footprint_big_sky_dustv1.5_10yrs.db',\n",
       " 'footprint_big_sky_nouiyv1.5_10yrs.db',\n",
       " 'footprint_big_skyv1.5_10yrs.db',\n",
       " 'footprint_big_wfdv1.5_10yrs.db',\n",
       " 'footprint_bluer_footprintv1.5_10yrs.db',\n",
       " 'footprint_gp_smoothv1.5_10yrs.db',\n",
       " 'footprint_newAv1.5_10yrs.db',\n",
       " 'footprint_newBv1.5_10yrs.db',\n",
       " 'footprint_no_gp_northv1.5_10yrs.db',\n",
       " 'footprint_standard_goalsv1.5_10yrs.db',\n",
       " 'footprint_stuck_rollingv1.5_10yrs.db',\n",
       " 'goodseeing_gi_v1.5_10yrs.db',\n",
       " 'goodseeing_gri_v1.5_10yrs.db',\n",
       " 'goodseeing_griz_v1.5_10yrs.db',\n",
       " 'goodseeing_gz_v1.5_10yrs.db',\n",
       " 'goodseeing_i_v1.5_10yrs.db',\n",
       " 'greedy_footprint_v1.5_10yrs.db',\n",
       " 'roll_mod2_dust_sdf_0.20_v1.5_10yrs.db',\n",
       " 'rolling_mod2_sdf_0.10_v1.5_10yrs.db',\n",
       " 'rolling_mod2_sdf_0.20_v1.5_10yrs.db',\n",
       " 'rolling_mod3_sdf_0.10_v1.5_10yrs.db',\n",
       " 'rolling_mod3_sdf_0.20_v1.5_10yrs.db',\n",
       " 'rolling_mod6_sdf_0.10_v1.5_10yrs.db',\n",
       " 'rolling_mod6_sdf_0.20_v1.5_10yrs.db',\n",
       " 'short_exp_2ns_1expt_v1.5_10yrs.db',\n",
       " 'short_exp_2ns_5expt_v1.5_10yrs.db',\n",
       " 'short_exp_5ns_1expt_v1.5_10yrs.db',\n",
       " 'short_exp_5ns_5expt_v1.5_10yrs.db',\n",
       " 'spiders_v1.5_10yrs.db',\n",
       " 'third_obs_pt120v1.5_10yrs.db',\n",
       " 'third_obs_pt15v1.5_10yrs.db',\n",
       " 'third_obs_pt30v1.5_10yrs.db',\n",
       " 'third_obs_pt45v1.5_10yrs.db',\n",
       " 'third_obs_pt60v1.5_10yrs.db',\n",
       " 'third_obs_pt90v1.5_10yrs.db',\n",
       " 'twilight_neo_mod1_v1.5_10yrs.db',\n",
       " 'twilight_neo_mod2_v1.5_10yrs.db',\n",
       " 'twilight_neo_mod3_v1.5_10yrs.db',\n",
       " 'twilight_neo_mod4_v1.5_10yrs.db',\n",
       " 'u60_v1.5_10yrs.db',\n",
       " 'var_expt_v1.5_10yrs.db',\n",
       " 'wfd_depth_scale0.65_noddf_v1.5_10yrs.db',\n",
       " 'wfd_depth_scale0.65_v1.5_10yrs.db',\n",
       " 'wfd_depth_scale0.70_noddf_v1.5_10yrs.db',\n",
       " 'wfd_depth_scale0.70_v1.5_10yrs.db',\n",
       " 'wfd_depth_scale0.75_noddf_v1.5_10yrs.db',\n",
       " 'wfd_depth_scale0.75_v1.5_10yrs.db',\n",
       " 'wfd_depth_scale0.80_noddf_v1.5_10yrs.db',\n",
       " 'wfd_depth_scale0.80_v1.5_10yrs.db',\n",
       " 'wfd_depth_scale0.85_noddf_v1.5_10yrs.db',\n",
       " 'wfd_depth_scale0.85_v1.5_10yrs.db',\n",
       " 'wfd_depth_scale0.90_noddf_v1.5_10yrs.db',\n",
       " 'wfd_depth_scale0.90_v1.5_10yrs.db',\n",
       " 'wfd_depth_scale0.95_noddf_v1.5_10yrs.db',\n",
       " 'wfd_depth_scale0.95_v1.5_10yrs.db',\n",
       " 'wfd_depth_scale0.99_noddf_v1.5_10yrs.db',\n",
       " 'wfd_depth_scale0.99_v1.5_10yrs.db']"
      ]
     },
     "execution_count": 31,
     "metadata": {},
     "output_type": "execute_result"
    }
   ],
   "source": [
    "dblist_all"
   ]
  },
  {
   "cell_type": "code",
   "execution_count": 33,
   "metadata": {},
   "outputs": [
    {
     "name": "stdout",
     "output_type": "stream",
     "text": [
      "connect to  /home/idies/workspace/lsst_cadence/FBS_1.5/baseline_samefilt_v1.5_10yrs.db \n",
      " SELECT filter, fiveSigmaDepth, night FROM SummaryAllProps where proposalId=1\n",
      "connect to  /home/idies/workspace/lsst_cadence/FBS_1.5/short_exp_2ns_1expt_v1.5_10yrs.db \n",
      " SELECT filter, fiveSigmaDepth, night FROM SummaryAllProps where proposalId=1\n",
      "connect to  /home/idies/workspace/lsst_cadence/FBS_1.5/twilight_neo_mod1_v1.5_10yrs.db \n",
      " SELECT filter, fiveSigmaDepth, night FROM SummaryAllProps where proposalId=1\n"
     ]
    }
   ],
   "source": [
    "df_base = get_cols(dbfile=dbpath+dblist_all[4], \n",
    "                   cols='filter, fiveSigmaDepth, night', \n",
    "                   lim='proposalId=1')\n",
    "df_short = get_cols(dbfile=dbpath+'short_exp_2ns_1expt_v1.5_10yrs.db',\n",
    "                    cols='filter, fiveSigmaDepth, night', \n",
    "                   lim='proposalId=1')\n",
    "df_twilight = get_cols(dbfile=dbpath+'twilight_neo_mod1_v1.5_10yrs.db',\n",
    "                    cols='filter, fiveSigmaDepth, night', \n",
    "                   lim='proposalId=1') \n"
   ]
  },
  {
   "cell_type": "code",
   "execution_count": 52,
   "metadata": {
    "scrolled": false
   },
   "outputs": [
    {
     "name": "stdout",
     "output_type": "stream",
     "text": [
      "u\n",
      "u baseline\n",
      "\t faint [23.65] 17845.0\n",
      "u short_2ns\n",
      "\t bright [20.45] 5410.0\n",
      "\t faint [23.65] 12452.0\n",
      "u twilight_neo\n",
      "\t bright [20.95] 3.0\n",
      "\t faint [23.65] 15655.0\n",
      "g\n",
      "g baseline\n",
      "\t faint [24.65] 20821.0\n",
      "g short_2ns\n",
      "\t bright [20.95] 235.0\n",
      "\t faint [24.65] 19498.0\n",
      "g twilight_neo\n",
      "\t faint [24.65] 25773.0\n",
      "r\n",
      "r baseline\n",
      "\t faint [24.05] 50157.0\n",
      "r short_2ns\n",
      "\t bright [20.95] 928.0\n",
      "\t faint [24.15] 53990.0\n",
      "r twilight_neo\n",
      "\t bright [20.95] 17319.0\n",
      "\t faint [24.15] 39531.0\n",
      "i\n",
      "i baseline\n",
      "\t faint [23.65] 45980.0\n",
      "i short_2ns\n",
      "\t bright [20.95] 3785.0\n",
      "\t faint [23.65] 43470.0\n",
      "i twilight_neo\n",
      "\t bright [20.85] 17616.0\n",
      "\t faint [23.65] 33563.0\n",
      "z\n",
      "z baseline\n",
      "\t bright [20.95] 17.0\n",
      "\t faint [22.75] 45124.0\n",
      "z short_2ns\n",
      "\t bright [20.75] 5498.0\n",
      "\t faint [22.85] 42436.0\n",
      "z twilight_neo\n",
      "\t bright [20.25] 20085.0\n",
      "\t faint [22.85] 30382.0\n",
      "y\n",
      "y baseline\n",
      "\t bright [20.95] 1076.0\n",
      "\t faint [22.15] 47615.0\n",
      "y short_2ns\n",
      "\t bright [19.95] 5643.0\n",
      "\t faint [22.05] 50169.0\n",
      "y twilight_neo\n",
      "\t bright [20.95] 1884.0\n",
      "\t faint [22.05] 61488.0\n"
     ]
    },
    {
     "data": {
      "image/png": "[encoded data removed]",
      "text/plain": [
       "<Figure size 600x1500 with 6 Axes>"
      ]
     },
     "metadata": {},
     "output_type": "display_data"
    }
   ],
   "source": [
    "df_list = [df_base,  df_short, df_twilight]\n",
    "label_list = ['baseline', 'short_2ns', 'twilight_neo']\n",
    "plot_maghist(df_list, label_list, ylim=[0, 65000], yticks=range(10000, 60000, 20000))\n"
   ]
  },
  {
   "cell_type": "markdown",
   "metadata": {},
   "source": [
    "### GP"
   ]
  },
  {
   "cell_type": "code",
   "execution_count": 16,
   "metadata": {},
   "outputs": [],
   "source": [
    "if RERUN:\n",
    "    ipix_LMC = [2899, 2900, 2901, 2934, 2935, 2936, 2965, 2966, 2967, 2992, 2993, 2994]\n",
    "    ipix_SMC = [2960, 2961, 2988, 2989, 3012]\n",
    "    ipix_GP = [ 144,  145,  146,  147,  179,  180,  181,  182,  183,  184,  217,\n",
    "            218,  219,  225,  226,  260,  261,  271,  272,  307,  308,  320,\n",
    "            321,  358,  374,  413,  431,  432,  471,  472,  493,  534,  535,\n",
    "            558,  598,  599,  622,  661,  662,  687,  725,  726,  751,  788,\n",
    "            789,  790,  815,  816,  852,  853,  854,  879,  915,  916,  917,\n",
    "            944,  979,  980,  981, 1008, 1042, 1043, 1044, 1045, 1073, 1107,\n",
    "           1108, 1109, 1136, 1170, 1171, 1172, 1201, 1234, 1235, 1236, 1237,\n",
    "           1265, 1297, 1298, 1299, 1300, 1330, 1361, 1362, 1363, 1364, 1393,\n",
    "           1425, 1426, 1427, 1428, 1458, 1489, 1490, 1491, 1492, 1522, 1552,\n",
    "           1553, 1554, 1555, 1587, 1616, 1617, 1618, 1619, 1620, 1650, 1679,\n",
    "           1680, 1681, 1682, 1683, 1715, 1744, 1745, 1746, 1747, 1779, 1807,\n",
    "           1808, 1809, 1810, 1811, 1843, 1871, 1872, 1873, 1874, 1875, 1907,\n",
    "           1934, 1935, 1936, 1937, 1938, 1972, 1998, 1999, 2000, 2001, 2002,\n",
    "           2003, 2036, 2062, 2063, 2064, 2065, 2066, 2100, 2126, 2127, 2128,\n",
    "           2129, 2130, 2164, 2189, 2190, 2191, 2192, 2193, 2194, 2229, 2253,\n",
    "           2254, 2255, 2256, 2257, 2258, 2293, 2316, 2317, 2318, 2319, 2320,\n",
    "           2321, 2358, 2380, 2381, 2382, 2383, 2384, 2385, 2421, 2422, 2443,\n",
    "           2444, 2445, 2446, 2447, 2448, 2449, 2486, 2487, 2507, 2508, 2509,\n",
    "           2510, 2511, 2512, 2513, 2550, 2551, 2570, 2571, 2572, 2573, 2574,\n",
    "           2575, 2576, 2614, 2630, 2631, 2632, 2633, 2634, 2635, 2636, 2673,\n",
    "           2687, 2688, 2689, 2690, 2691, 2692, 2693, 2728, 2729, 2739, 2740,\n",
    "           2741, 2742, 2743, 2744, 2745, 2746, 2779, 2780, 2781, 2787, 2788,\n",
    "           2789, 2790, 2791, 2792, 2793, 2794, 2826, 2827, 2828, 2829, 2830,\n",
    "           2831, 2832, 2833, 2834, 2835, 2836, 2837, 2838, 2839, 2869, 2870,\n",
    "           2871, 2872, 2873, 2874, 2875, 2876, 2877, 2878, 2879, 2908, 2909,\n",
    "           2910, 2911, 2912, 2913, 2914, 2915, 2916, 2943, 2944, 2945, 2946,\n",
    "           2947, 2948, 2974, 2975, 2976]\n",
    "\n",
    "    dbname = dblist_all[5]\n",
    "    sqlstr = None\n",
    "    ipix_ms = ipix_SMC\n"
   ]
  },
  {
   "cell_type": "code",
   "execution_count": null,
   "metadata": {
    "scrolled": true
   },
   "outputs": [],
   "source": [
    "if RERUN:\n",
    "    %%time\n",
    "    # calculate the FoM of depth\n",
    "    # 1 - (peak - mag_stretch)\n",
    "    sqlstr = None\n",
    "\n",
    "    mag_stretch = {'u':24.0, 'g':25.1, 'r':24.8, 'i':24.1, 'z':23.4, 'y':22.2 }\n",
    "    bins = np.arange(18, 27, 0.01)\n",
    "\n",
    "    dicFoM = {}\n",
    "\n",
    "    filters = ['u', 'g', 'r', 'i', 'z', 'y']\n",
    "\n",
    "    ms = \"GP\"\n",
    "    ipix_ms = ipix_GP\n",
    "\n",
    "    for ms, ipix_ms in zip([\"GP\", \"LMC\", \"SMC\"], (ipix_GP, ipix_LMC, ipix_SMC)):\n",
    "        for i, dbname in enumerate( dblist_all):\n",
    "            df_opsim = get_cols(dbfile=dbpath+dbname,\n",
    "                       cols='fieldRA, fieldDec, filter, fiveSigmaDepth, night', lim=sqlstr)\n",
    "\n",
    "            df_opsim = get_pixId(df_opsim, nside=16)\n",
    "\n",
    "            idx = np.isin(df_opsim['pixId'].values, ipix_ms)\n",
    "\n",
    "            df_opsim_ms = df_opsim[idx]\n",
    "\n",
    "            print( ms, len(ipix_ms), dbname, np.unique( df_opsim_ms['pixId'] ).shape )\n",
    "\n",
    "            dicFoM[dbname] = {}\n",
    "            for f in filters:\n",
    "\n",
    "\n",
    "                m5 = df_opsim_ms [df_opsim_ms['filter']==f]['fiveSigmaDepth'].values\n",
    "                # method to calculate figure of merit of depth from fiveSigmaDepth\n",
    "                #values, bins, = np.histogram(m5, bins=bins) \n",
    "                #mode = bins[ np.argmax(values) ]\n",
    "                # \n",
    "\n",
    "                mode = np.median(m5)\n",
    "\n",
    "                #FoM =  mode - mag_stretch[f]\n",
    "                FoM = mode\n",
    "                #FoM = np.mean(m5)\n",
    "\n",
    "                dicFoM[dbname][f] = FoM\n",
    "                print(dbname, len(m5), f, FoM)\n",
    "\n",
    "        df = pd.DataFrame( dicFoM ).T\n",
    "        df = df.reset_index()\n",
    "        df = df.rename(columns = {'index':'db'})\n",
    "        df.to_csv('data/depthFoM_mag_{}_v1.5.csv'.format(ms), index=False)\n"
   ]
  },
  {
   "cell_type": "code",
   "execution_count": 17,
   "metadata": {},
   "outputs": [],
   "source": []
  },
  {
   "cell_type": "code",
   "execution_count": null,
   "metadata": {},
   "outputs": [],
   "source": []
  },
  {
   "cell_type": "code",
   "execution_count": null,
   "metadata": {},
   "outputs": [],
   "source": []
  },
  {
   "cell_type": "code",
   "execution_count": 18,
   "metadata": {},
   "outputs": [
    {
     "data": {
      "text/plain": [
       "[2960, 2961, 2988, 2989, 3012]"
      ]
     },
     "execution_count": 18,
     "metadata": {},
     "output_type": "execute_result"
    }
   ],
   "source": [
    "ipix_SMC"
   ]
  },
  {
   "cell_type": "code",
   "execution_count": 19,
   "metadata": {},
   "outputs": [
    {
     "ename": "NameError",
     "evalue": "name 'df_opsim_ms' is not defined",
     "output_type": "error",
     "traceback": [
      "\u001b[0;31m\u001b[0m",
      "\u001b[0;31mNameError\u001b[0mTraceback (most recent call last)",
      "\u001b[0;32m<ipython-input-19-991591be6d75>\u001b[0m in \u001b[0;36m<module>\u001b[0;34m\u001b[0m\n\u001b[0;32m----> 1\u001b[0;31m \u001b[0mnp\u001b[0m\u001b[0;34m.\u001b[0m\u001b[0munique\u001b[0m\u001b[0;34m(\u001b[0m \u001b[0mdf_opsim_ms\u001b[0m\u001b[0;34m[\u001b[0m\u001b[0;34m'pixId'\u001b[0m\u001b[0;34m]\u001b[0m \u001b[0;34m)\u001b[0m\u001b[0;34m\u001b[0m\u001b[0;34m\u001b[0m\u001b[0m\n\u001b[0m",
      "\u001b[0;31mNameError\u001b[0m: name 'df_opsim_ms' is not defined"
     ]
    }
   ],
   "source": [
    "np.unique( df_opsim_ms['pixId'] )"
   ]
  }
 ],
 "metadata": {
  "kernelspec": {
   "display_name": "Python 3",
   "language": "python",
   "name": "python3"
  },
  "language_info": {
   "codemirror_mode": {
    "name": "ipython",
    "version": 3
   },
   "file_extension": ".py",
   "mimetype": "text/x-python",
   "name": "python",
   "nbconvert_exporter": "python",
   "pygments_lexer": "ipython3",
   "version": "3.7.2"
  }
 },
 "nbformat": 4,
 "nbformat_minor": 4
}
