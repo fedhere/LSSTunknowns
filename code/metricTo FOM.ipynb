{
 "cells": [
  {
   "cell_type": "markdown",
   "metadata": {},
   "source": [
    "## Figure of merit"
   ]
  },
  {
   "cell_type": "markdown",
   "metadata": {},
   "source": [
    "**The notebook presents a function which take as input the bundleDicts from the metric and it builds a bar plot with the rank of all the opsims. The rank is estimated summing the metric value all over the footprint.**"
   ]
  },
  {
   "cell_type": "code",
   "execution_count": null,
   "metadata": {},
   "outputs": [],
   "source": [
    "%matplotlib inline\n",
    "import sys,os, glob\n",
    "import numpy as np\n",
    "import math\n",
    "from opsimUtils import *\n",
    "import matplotlib.pyplot as plt\n",
    "import pandas as pd\n",
    "import lsst.sims.maf.slicers as slicers\n",
    "import lsst.sims.maf.metrics as metrics\n",
    "import lsst.sims.maf.metricBundles as metricBundles\n",
    "import lsst.sims.maf.db as db\n",
    "import lsst.sims.maf.plots as plots\n",
    "from lsst.sims.maf.metrics import BaseMetric\n",
    "from lsst.sims.maf.utils import m52snr, sigma_slope, astrom_precision\n",
    "from builtins import zip"
   ]
  },
  {
   "cell_type": "markdown",
   "metadata": {},
   "source": [
    "- your_username has to be set to be able to access to the proper directory.\n",
    "\n",
    "- outDir has to be set to be able to access to the MAFOutput file."
   ]
  },
  {
   "cell_type": "code",
   "execution_count": null,
   "metadata": {},
   "outputs": [],
   "source": [
    "your_username = ''\n",
    "if your_username == '': # do NOT put your username here, put it in the cell at the top of the notebook.\n",
    "    raise Exception('Please provide your username!  See the top of the notebook.')\n",
    "    \n",
    "outDir = '/home/idies/workspace/Storage/{}/persistent/MAFOutput/MetricData'.format(your_username)\n",
    "\n",
    "resultDbs = getResultsDbs(outDir)\n",
    "\n",
    "# the following line will be useful if you did not run MAF on all 75 opsims\n",
    "runNames = list(resultDbs.keys())\n",
    "bundleDicts = {}\n",
    "for runName in runNames:\n",
    "       bundleDicts[runName] = bundleDictFromDisk(resultDbs[runName], runName, outDir)\n"
   ]
  },
  {
   "cell_type": "markdown",
   "metadata": {},
   "source": [
    "nomalization factors and/or tresholds for the FOM and MAF values can be set in the function to plot the selection we want to show"
   ]
  },
  {
   "cell_type": "code",
   "execution_count": 2,
   "metadata": {},
   "outputs": [],
   "source": [
    "def FOM(bundleDicts, norm=None, treshold_min =None, treshold_max =None, **karg):\n",
    "    data_bundle = {}\n",
    "    data = {}\n",
    "    FOMs = []\n",
    "    runNames= list(bundleDicts.keys())\n",
    "    metrics = bundleDicts[runNames[0]].keys()\n",
    "    for metric in metrics:\n",
    "        data_bundle[metric]={}\n",
    "        data[metric]={}\n",
    "        FOM=[]\n",
    "        for runName in runNames: \n",
    "            data_bundle[metric][runName]= pd.DataFrame(bundleDicts[runName][metric].metricValues[np.where(bundleDicts[runName][metric].metricValues.mask == False)])[0]\n",
    "            data[metric][runName]= [] \n",
    "            for i in range(len(data_bundle[metric][runName])):        \n",
    "                if data_bundle[metric][runName][i]:\n",
    "                    data[metric][runName].append(data_bundle[metric][runName][i])\n",
    "            data[metric][runName]=np.array(data[metric][runName][np.where(np.isfinite(data[metric][runName]))]) \n",
    "            if treshold_min !=None and treshold_max !=None :\n",
    "                ID_fom=np.where((data[metric][runName]>treshold_min) & (data[metric][runName]<treshold_max))\n",
    "            else:\n",
    "                if treshold_min !=None:\n",
    "                    ID_fom=np.where(data[metric][runName]>treshold_min)\n",
    "                elif treshold_max !=None :\n",
    "                    ID_fom=np.where(data[metric][runName]<treshold_max)\n",
    "                else:\n",
    "                    ID_fom=np.repeat(True, len(data[metric][runName]))\n",
    "            if norm =='std':\n",
    "                N= np.std(data[metric][runName][ID_fom])\n",
    "            else:\n",
    "                N=np.repeat(1,len(data[metric][runName][ID_fom]))\n",
    "            fom = np.array(data[metric][runName][ID_fom])*N\n",
    "            FOM.append(fom.sum())\n",
    "        FOM=np.array(FOM)\n",
    "        FOMs.append(FOM) \n",
    "    \n",
    "    name_tick=[]\n",
    "    for key in bundleDicts.keys():\n",
    "        n= key.split('_')\n",
    "        if 'v1.4' in n:\n",
    "            n.remove('v1.4')\n",
    "        else:\n",
    "            word=[]\n",
    "            for s in n[-2]:\n",
    "                word.append(s)\n",
    "            word.remove('v')\n",
    "            word.remove('1')\n",
    "            word.remove('.')\n",
    "            word.remove('4')\n",
    "            sub =''\n",
    "            n[-2]= sub.join(word)\n",
    "        n.remove('10yrs')\n",
    "        s=' '\n",
    "        name_tick.append(s.join(n))\n",
    "    \n",
    "    import matplotlib.cm as cm\n",
    "    plt.rcdefaults()\n",
    "    fig, ax = plt.subplots(figsize=(10,30))\n",
    "    y_pos = np.arange(len(bundleDicts.keys()))\n",
    "    colorlist = cm.rainbow(np.linspace(0, 1, len(FOMs)))\n",
    "    d= np.zeros(len(runNames))\n",
    "    dplt=[]\n",
    "    FOM_labels= list(bundleDicts[runNames[0]].keys())\n",
    "    for i, FOM in enumerate(FOMs):\n",
    "        d =+ FOM\n",
    "        dplt.append(d)\n",
    "    print(dplt)\n",
    "    idx=np.argsort(dplt[-1])\n",
    "    idx=idx[::-1]\n",
    "    for i in reversed(range(len(FOMs))):\n",
    "        ax.barh(y_pos,dplt[i], align='center',color=colorlist[i],label=FOM_labels[i], **karg)\n",
    "    ax.set_yticks(y_pos)\n",
    "    ax.set_yticklabels(name_tick, size=20)\n",
    "    ax.invert_yaxis()  # labels read top-to-bottom\n",
    "    ax.set_xlabel('FoM', size=20)\n",
    "    ax.legend(bbox_to_anchor=(1., 1.),fontsize=15)\n",
    "    if filename!=None:\n",
    "        plt.savefig(filename+'.png')\n",
    "    plt.close()\n",
    "    return fig"
   ]
  },
  {
   "cell_type": "code",
   "execution_count": null,
   "metadata": {},
   "outputs": [],
   "source": []
  }
 ],
 "metadata": {
  "kernelspec": {
   "display_name": "Python 3",
   "language": "python",
   "name": "python3"
  },
  "language_info": {
   "codemirror_mode": {
    "name": "ipython",
    "version": 3
   },
   "file_extension": ".py",
   "mimetype": "text/x-python",
   "name": "python",
   "nbconvert_exporter": "python",
   "pygments_lexer": "ipython3",
   "version": "3.7.2"
  }
 },
 "nbformat": 4,
 "nbformat_minor": 4
}
